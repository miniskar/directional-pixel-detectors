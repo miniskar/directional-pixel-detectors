{
  "cells": [
    {
      "cell_type": "code",
      "execution_count": 1,
      "id": "d2990b6a",
      "metadata": {
        "id": "d2990b6a",
        "colab": {
          "base_uri": "https://localhost:8080/"
        },
        "outputId": "62503989-d01d-49b5-9a82-76b7e029d10d"
      },
      "outputs": [
        {
          "output_type": "stream",
          "name": "stdout",
          "text": [
            "Mounted at /content/drive\n"
          ]
        }
      ],
      "source": [
        "from google.colab import drive\n",
        "drive.mount('/content/drive', force_remount = True)\n",
        "# Set directory as default system path\n",
        "import sys\n",
        "sys.path.append('/content/drive/MyDrive/smart-pixels')"
      ]
    },
    {
      "cell_type": "code",
      "source": [
        "import tensorflow as tf\n",
        "print(\"Num GPUs Available: \", len(tf.config.list_physical_devices('GPU')))\n",
        "import keras\n",
        "import pandas as pd\n",
        "import numpy as np\n",
        "from global_vars import * \n",
        "from sklearn.preprocessing import StandardScaler\n",
        "from sklearn.model_selection import train_test_split\n",
        "from models import MultiOutputRegModel\n",
        "from custom_callbacks import CustomCallback\n",
        "from keras.callbacks import ModelCheckpoint, CSVLogger, EarlyStopping\n",
        "from keras.losses import MeanSquaredError\n",
        "from tensorflow.keras.optimizers import Adam\n",
        "import seaborn as sns\n",
        "import matplotlib.pyplot as plt"
      ],
      "metadata": {
        "id": "mpIFDpaF1FpS",
        "colab": {
          "base_uri": "https://localhost:8080/"
        },
        "outputId": "60736d30-210e-4b31-8601-360d04bb864d"
      },
      "id": "mpIFDpaF1FpS",
      "execution_count": 2,
      "outputs": [
        {
          "output_type": "stream",
          "name": "stdout",
          "text": [
            "Num GPUs Available:  1\n"
          ]
        }
      ]
    },
    {
      "cell_type": "code",
      "execution_count": 3,
      "id": "6be9e351",
      "metadata": {
        "id": "6be9e351"
      },
      "outputs": [],
      "source": [
        "class DataGenerator:\n",
        "    \n",
        "    def __init__(self, nsamples, drop_cols = None):\n",
        "        self.n = nsamples\n",
        "        df1 = pd.read_csv(CLUSTERS_FILE)\n",
        "        df2 = pd.read_csv(LABELS_FILE)\n",
        "        \n",
        "        self.X = df1.values\n",
        "        n = self.X.shape[0]\n",
        "        self.X = np.reshape(self.X, (n,13,21,1))\n",
        "        \n",
        "        if drop_cols != None:\n",
        "            df2.drop(drop_cols, axis=1, inplace=True)\n",
        "            \n",
        "        print(df2.head())\n",
        "        self.y = df2\n",
        "\n",
        "        # scale all outputs to homogenize output\n",
        "\n",
        "        self.y['x-entry'] = self.y['x-entry']/1000.\n",
        "        self.y['y-entry'] = self.y['y-entry']/100.\n",
        "        # self.y['cotAlpha'] = self.y['cotAlpha']/10.\n",
        "\n",
        "        print(self.y.head())\n",
        "     \n",
        "    def get_train_test_split(self, test_size = 0.2, seed = 0):\n",
        "        X_train, X_test, y_train, y_test = train_test_split(self.X,\n",
        "                                                            self.y,\n",
        "                                                            test_size = test_size, \n",
        "                                                            random_state = seed)\n",
        "        print(self.X.shape, self.y.shape)\n",
        "        print(X_train.shape, X_test.shape, y_train.shape, y_test.shape)\n",
        "\n",
        "        #scale input data\n",
        "        scaler = StandardScaler()\n",
        "        X_train = scaler.fit_transform(X_train.reshape(-1, X_train.shape[-1])).reshape(X_train.shape)\n",
        "        X_test = scaler.transform(X_test.reshape(-1, X_test.shape[-1])).reshape(X_test.shape)\n",
        "\n",
        "        x_entry_train, x_entry_test = np.array(y_train['x-entry']),np.array(y_test['x-entry'])\n",
        "        y_entry_train, y_entry_test = np.array(y_train['y-entry']),np.array(y_test['y-entry'])\n",
        "        cotAlpha_train, cotAlpha_test = np.array(y_train['cotAlpha']),np.array(y_test['cotAlpha'])\n",
        "        cotBeta_train, cotBeta_test = np.array(y_train['cotBeta']),np.array(y_test['cotBeta'])\n",
        "\n",
        "        trainY = (np.column_stack([x_entry_train, y_entry_train]), np.column_stack([cotAlpha_train, cotBeta_train]))\n",
        "        testY = (np.column_stack([x_entry_test, y_entry_test]), np.column_stack([cotAlpha_test, cotBeta_test]))\n",
        "\n",
        "        return X_train, X_test, trainY, testY"
      ]
    },
    {
      "cell_type": "code",
      "execution_count": 4,
      "id": "a4b909a5",
      "metadata": {
        "id": "a4b909a5",
        "colab": {
          "base_uri": "https://localhost:8080/"
        },
        "outputId": "970b015e-a698-4ca1-900a-2f2c876d7b46"
      },
      "outputs": [
        {
          "output_type": "stream",
          "name": "stdout",
          "text": [
            "      x-entry    y-entry  cotAlpha   cotBeta\n",
            "0 -168.364151  -2.262124  3.696619  0.098554\n",
            "1 -127.467667  15.197241  2.341443 -0.206051\n",
            "2 -369.492645  -0.128008  7.428552 -0.017690\n",
            "3 -365.951111  -4.567823  7.807505  0.044182\n",
            "4 -200.628601  14.304100  3.911512 -0.191527\n",
            "    x-entry   y-entry  cotAlpha   cotBeta\n",
            "0 -0.168364 -0.022621  3.696619  0.098554\n",
            "1 -0.127468  0.151972  2.341443 -0.206051\n",
            "2 -0.369493 -0.001280  7.428552 -0.017690\n",
            "3 -0.365951 -0.045678  7.807505  0.044182\n",
            "4 -0.200629  0.143041  3.911512 -0.191527\n",
            "(650000, 13, 21, 1) (650000, 4)\n",
            "(520000, 13, 21, 1) (130000, 13, 21, 1) (520000, 4) (130000, 4)\n"
          ]
        }
      ],
      "source": [
        "datagen = DataGenerator(nsamples= NEVENTS, \n",
        "                        drop_cols = ['n_x','n_y','n_z','number_eh_pairs','z-entry'])\n",
        "X_train, X_test, trainY, testY = datagen.get_train_test_split(test_size = 0.20,  seed = 0)"
      ]
    },
    {
      "cell_type": "code",
      "source": [
        "from keras.layers import Input, Conv2D, Dense, Dropout, MaxPooling2D, Flatten, concatenate, BatchNormalization\n",
        "from keras.models import  Model\n",
        "\n",
        "class BranchedRegModel1:\n",
        "\n",
        "    def build_default_hidden_layers(self, inputs):\n",
        "        x = Conv2D ( filters = 8 , kernel_size = (3 , 3) , strides = (1 , 1) ,\n",
        "                         activation = \"relu\" , name = \"conv_1\" ) ( inputs )\n",
        "        x = Conv2D ( filters = 16 , kernel_size = (3 , 3) , strides = (1 , 1) ,\n",
        "                         activation = \"relu\" , name = \"conv_2\" ) ( x )\n",
        "        x = MaxPooling2D ( (2 , 2) , name = \"maxpool_1\" ) ( x )\n",
        "        x = Conv2D ( filters = 32 , kernel_size = (3 , 3) , strides = (1 , 1) ,\n",
        "                         activation = \"relu\" , name = \"conv_3\" ) ( x )\n",
        "        x = MaxPooling2D ( (2 , 2) , name = \"maxpool_2\" ) ( x )\n",
        "\n",
        "        return x\n",
        "\n",
        "    def build_coords_branch(self,inputs):\n",
        "\n",
        "        x = Flatten()(inputs)\n",
        "        x = Dense(32, activation = \"relu\")(x)\n",
        "        x = BatchNormalization ( ) ( x )\n",
        "        x = Dense(16, activation = \"relu\")(x)\n",
        "        x = BatchNormalization ( ) ( x )\n",
        "        x = Dropout ( 0.05 ) ( x )\n",
        "        x = Dense ( 2, activation = \"linear\", name = \"coords_output\" ) ( x )\n",
        "        return x\n",
        "\n",
        "    def build_angles_branch(self,inputs):\n",
        "        x = Flatten()(inputs)\n",
        "        x = Dense ( 32 , activation =  \"relu\") ( x )\n",
        "        x = BatchNormalization ( ) ( x )\n",
        "        x = Dropout ( 0.1 ) ( x )\n",
        "        x = Dense ( 2, activation = \"linear\", name = \"angles_output\" ) ( x )\n",
        "        return x\n",
        "\n",
        "    def assemble_full_model(self,inputs_shape):\n",
        "        inputs = Input ( shape = inputs_shape )\n",
        "        common_branch_inputs = self.build_default_hidden_layers ( inputs )\n",
        "        coords_output = self.build_coords_branch(common_branch_inputs)\n",
        "        angles_output = self.build_angles_branch(common_branch_inputs)\n",
        "        model = Model ( inputs = inputs ,\n",
        "                        outputs = [coords_output,angles_output],\n",
        "                        name = \"model_1\" )\n",
        "        model.summary()\n",
        "        return model"
      ],
      "metadata": {
        "id": "aXGqI6sdINhG"
      },
      "id": "aXGqI6sdINhG",
      "execution_count": 8,
      "outputs": []
    },
    {
      "cell_type": "code",
      "execution_count": null,
      "id": "9059e312",
      "metadata": {
        "scrolled": true,
        "id": "9059e312",
        "colab": {
          "base_uri": "https://localhost:8080/"
        },
        "outputId": "525326c1-981c-42c2-85db-6e89c0c7ac35"
      },
      "outputs": [
        {
          "output_type": "stream",
          "name": "stdout",
          "text": [
            "Model: \"model_1\"\n",
            "__________________________________________________________________________________________________\n",
            " Layer (type)                   Output Shape         Param #     Connected to                     \n",
            "==================================================================================================\n",
            " input_1 (InputLayer)           [(None, 13, 21, 1)]  0           []                               \n",
            "                                                                                                  \n",
            " conv_1 (Conv2D)                (None, 11, 19, 8)    80          ['input_1[0][0]']                \n",
            "                                                                                                  \n",
            " conv_2 (Conv2D)                (None, 9, 17, 16)    1168        ['conv_1[0][0]']                 \n",
            "                                                                                                  \n",
            " maxpool_1 (MaxPooling2D)       (None, 4, 8, 16)     0           ['conv_2[0][0]']                 \n",
            "                                                                                                  \n",
            " conv_3 (Conv2D)                (None, 2, 6, 32)     4640        ['maxpool_1[0][0]']              \n",
            "                                                                                                  \n",
            " maxpool_2 (MaxPooling2D)       (None, 1, 3, 32)     0           ['conv_3[0][0]']                 \n",
            "                                                                                                  \n",
            " flatten (Flatten)              (None, 96)           0           ['maxpool_2[0][0]']              \n",
            "                                                                                                  \n",
            " dense (Dense)                  (None, 32)           3104        ['flatten[0][0]']                \n",
            "                                                                                                  \n",
            " batch_normalization (BatchNorm  (None, 32)          128         ['dense[0][0]']                  \n",
            " alization)                                                                                       \n",
            "                                                                                                  \n",
            " flatten_1 (Flatten)            (None, 96)           0           ['maxpool_2[0][0]']              \n",
            "                                                                                                  \n",
            " dense_1 (Dense)                (None, 16)           528         ['batch_normalization[0][0]']    \n",
            "                                                                                                  \n",
            " dense_2 (Dense)                (None, 32)           3104        ['flatten_1[0][0]']              \n",
            "                                                                                                  \n",
            " batch_normalization_1 (BatchNo  (None, 16)          64          ['dense_1[0][0]']                \n",
            " rmalization)                                                                                     \n",
            "                                                                                                  \n",
            " batch_normalization_2 (BatchNo  (None, 32)          128         ['dense_2[0][0]']                \n",
            " rmalization)                                                                                     \n",
            "                                                                                                  \n",
            " dropout (Dropout)              (None, 16)           0           ['batch_normalization_1[0][0]']  \n",
            "                                                                                                  \n",
            " dropout_1 (Dropout)            (None, 32)           0           ['batch_normalization_2[0][0]']  \n",
            "                                                                                                  \n",
            " coords_output (Dense)          (None, 2)            34          ['dropout[0][0]']                \n",
            "                                                                                                  \n",
            " angles_output (Dense)          (None, 2)            66          ['dropout_1[0][0]']              \n",
            "                                                                                                  \n",
            "==================================================================================================\n",
            "Total params: 13,044\n",
            "Trainable params: 12,884\n",
            "Non-trainable params: 160\n",
            "__________________________________________________________________________________________________\n"
          ]
        },
        {
          "output_type": "stream",
          "name": "stderr",
          "text": [
            "/usr/local/lib/python3.7/dist-packages/keras/optimizer_v2/adam.py:105: UserWarning: The `lr` argument is deprecated, use `learning_rate` instead.\n",
            "  super(Adam, self).__init__(name, **kwargs)\n"
          ]
        },
        {
          "output_type": "stream",
          "name": "stdout",
          "text": [
            "Epoch 1/50\n",
            "4062/4063 [============================>.] - ETA: 0s - loss: 0.1331 - coords_output_loss: 0.0031 - angles_output_loss: 0.2601 - coords_output_mean_squared_error: 0.0031 - angles_output_mean_squared_error: 0.2601\n",
            "Epoch 1: val_loss improved from inf to 0.04109, saving model to ./models/multi_output_model_cp.ckpt\n",
            "4063/4063 [==============================] - 54s 11ms/step - loss: 0.1331 - coords_output_loss: 0.0031 - angles_output_loss: 0.2601 - coords_output_mean_squared_error: 0.0031 - angles_output_mean_squared_error: 0.2601 - val_loss: 0.0411 - val_coords_output_loss: 8.1686e-04 - val_angles_output_loss: 0.0806 - val_coords_output_mean_squared_error: 8.1686e-04 - val_angles_output_mean_squared_error: 0.0805\n",
            "Epoch 2/50\n",
            "4060/4063 [============================>.] - ETA: 0s - loss: 0.0999 - coords_output_loss: 9.4267e-04 - angles_output_loss: 0.1980 - coords_output_mean_squared_error: 9.4267e-04 - angles_output_mean_squared_error: 0.1980\n",
            "Epoch 2: val_loss did not improve from 0.04109\n",
            "4063/4063 [==============================] - 42s 10ms/step - loss: 0.0999 - coords_output_loss: 9.4251e-04 - angles_output_loss: 0.1980 - coords_output_mean_squared_error: 9.4251e-04 - angles_output_mean_squared_error: 0.1980 - val_loss: 0.0420 - val_coords_output_loss: 4.4941e-04 - val_angles_output_loss: 0.0832 - val_coords_output_mean_squared_error: 4.4937e-04 - val_angles_output_mean_squared_error: 0.0832\n",
            "Epoch 3/50\n",
            "4063/4063 [==============================] - ETA: 0s - loss: 0.0967 - coords_output_loss: 7.9590e-04 - angles_output_loss: 0.1918 - coords_output_mean_squared_error: 7.9605e-04 - angles_output_mean_squared_error: 0.1918\n",
            "Epoch 3: val_loss improved from 0.04109 to 0.02636, saving model to ./models/multi_output_model_cp.ckpt\n",
            "4063/4063 [==============================] - 41s 10ms/step - loss: 0.0967 - coords_output_loss: 7.9590e-04 - angles_output_loss: 0.1918 - coords_output_mean_squared_error: 7.9605e-04 - angles_output_mean_squared_error: 0.1918 - val_loss: 0.0264 - val_coords_output_loss: 5.2733e-04 - val_angles_output_loss: 0.0517 - val_coords_output_mean_squared_error: 5.2734e-04 - val_angles_output_mean_squared_error: 0.0517\n",
            "Epoch 4/50\n",
            "4060/4063 [============================>.] - ETA: 0s - loss: 0.0949 - coords_output_loss: 7.2554e-04 - angles_output_loss: 0.1883 - coords_output_mean_squared_error: 7.2554e-04 - angles_output_mean_squared_error: 0.1883\n",
            "Epoch 4: val_loss improved from 0.02636 to 0.00687, saving model to ./models/multi_output_model_cp.ckpt\n",
            "4063/4063 [==============================] - 42s 10ms/step - loss: 0.0949 - coords_output_loss: 7.2564e-04 - angles_output_loss: 0.1883 - coords_output_mean_squared_error: 7.2576e-04 - angles_output_mean_squared_error: 0.1883 - val_loss: 0.0069 - val_coords_output_loss: 3.7100e-04 - val_angles_output_loss: 0.0130 - val_coords_output_mean_squared_error: 3.7100e-04 - val_angles_output_mean_squared_error: 0.0130\n",
            "Epoch 5/50\n",
            "4059/4063 [============================>.] - ETA: 0s - loss: 0.0936 - coords_output_loss: 6.8099e-04 - angles_output_loss: 0.1858 - coords_output_mean_squared_error: 6.8099e-04 - angles_output_mean_squared_error: 0.1858\n",
            "Epoch 5: val_loss did not improve from 0.00687\n",
            "4063/4063 [==============================] - 41s 10ms/step - loss: 0.0936 - coords_output_loss: 6.8096e-04 - angles_output_loss: 0.1858 - coords_output_mean_squared_error: 6.8104e-04 - angles_output_mean_squared_error: 0.1859 - val_loss: 0.0085 - val_coords_output_loss: 2.4882e-04 - val_angles_output_loss: 0.0165 - val_coords_output_mean_squared_error: 2.4881e-04 - val_angles_output_mean_squared_error: 0.0165\n",
            "Epoch 6/50\n",
            "4060/4063 [============================>.] - ETA: 0s - loss: 0.0916 - coords_output_loss: 6.5692e-04 - angles_output_loss: 0.1819 - coords_output_mean_squared_error: 6.5692e-04 - angles_output_mean_squared_error: 0.1819\n",
            "Epoch 6: val_loss improved from 0.00687 to 0.00569, saving model to ./models/multi_output_model_cp.ckpt\n",
            "4063/4063 [==============================] - 42s 10ms/step - loss: 0.0916 - coords_output_loss: 6.5691e-04 - angles_output_loss: 0.1819 - coords_output_mean_squared_error: 6.5691e-04 - angles_output_mean_squared_error: 0.1819 - val_loss: 0.0057 - val_coords_output_loss: 1.7873e-04 - val_angles_output_loss: 0.0110 - val_coords_output_mean_squared_error: 1.7872e-04 - val_angles_output_mean_squared_error: 0.0110\n",
            "Epoch 7/50\n",
            "4062/4063 [============================>.] - ETA: 0s - loss: 0.0919 - coords_output_loss: 6.4988e-04 - angles_output_loss: 0.1826 - coords_output_mean_squared_error: 6.4988e-04 - angles_output_mean_squared_error: 0.1826\n",
            "Epoch 7: val_loss improved from 0.00569 to 0.00564, saving model to ./models/multi_output_model_cp.ckpt\n",
            "4063/4063 [==============================] - 42s 10ms/step - loss: 0.0920 - coords_output_loss: 6.4991e-04 - angles_output_loss: 0.1826 - coords_output_mean_squared_error: 6.4994e-04 - angles_output_mean_squared_error: 0.1826 - val_loss: 0.0056 - val_coords_output_loss: 1.7660e-04 - val_angles_output_loss: 0.0109 - val_coords_output_mean_squared_error: 1.7659e-04 - val_angles_output_mean_squared_error: 0.0109\n",
            "Epoch 8/50\n",
            "4063/4063 [==============================] - ETA: 0s - loss: 0.0904 - coords_output_loss: 6.2774e-04 - angles_output_loss: 0.1795 - coords_output_mean_squared_error: 6.2783e-04 - angles_output_mean_squared_error: 0.1795\n",
            "Epoch 8: val_loss improved from 0.00564 to 0.00446, saving model to ./models/multi_output_model_cp.ckpt\n",
            "4063/4063 [==============================] - 42s 10ms/step - loss: 0.0904 - coords_output_loss: 6.2774e-04 - angles_output_loss: 0.1795 - coords_output_mean_squared_error: 6.2783e-04 - angles_output_mean_squared_error: 0.1795 - val_loss: 0.0045 - val_coords_output_loss: 1.7568e-04 - val_angles_output_loss: 0.0086 - val_coords_output_mean_squared_error: 1.7567e-04 - val_angles_output_mean_squared_error: 0.0086\n",
            "Epoch 9/50\n",
            "4063/4063 [==============================] - ETA: 0s - loss: 0.0903 - coords_output_loss: 6.1534e-04 - angles_output_loss: 0.1794 - coords_output_mean_squared_error: 6.1546e-04 - angles_output_mean_squared_error: 0.1794\n",
            "Epoch 9: val_loss did not improve from 0.00446\n",
            "4063/4063 [==============================] - 41s 10ms/step - loss: 0.0903 - coords_output_loss: 6.1534e-04 - angles_output_loss: 0.1794 - coords_output_mean_squared_error: 6.1546e-04 - angles_output_mean_squared_error: 0.1794 - val_loss: 0.0075 - val_coords_output_loss: 1.6661e-04 - val_angles_output_loss: 0.0146 - val_coords_output_mean_squared_error: 1.6659e-04 - val_angles_output_mean_squared_error: 0.0146\n",
            "Epoch 10/50\n",
            "4061/4063 [============================>.] - ETA: 0s - loss: 0.0907 - coords_output_loss: 6.1510e-04 - angles_output_loss: 0.1803 - coords_output_mean_squared_error: 6.1510e-04 - angles_output_mean_squared_error: 0.1803\n",
            "Epoch 10: val_loss did not improve from 0.00446\n",
            "4063/4063 [==============================] - 42s 10ms/step - loss: 0.0908 - coords_output_loss: 6.1519e-04 - angles_output_loss: 0.1803 - coords_output_mean_squared_error: 6.1534e-04 - angles_output_mean_squared_error: 0.1803 - val_loss: 0.0153 - val_coords_output_loss: 2.5316e-04 - val_angles_output_loss: 0.0300 - val_coords_output_mean_squared_error: 2.5313e-04 - val_angles_output_mean_squared_error: 0.0300\n",
            "Epoch 11/50\n",
            "4062/4063 [============================>.] - ETA: 0s - loss: 0.0907 - coords_output_loss: 6.0744e-04 - angles_output_loss: 0.1801 - coords_output_mean_squared_error: 6.0744e-04 - angles_output_mean_squared_error: 0.1801\n",
            "Epoch 11: val_loss improved from 0.00446 to 0.00444, saving model to ./models/multi_output_model_cp.ckpt\n",
            "4063/4063 [==============================] - 42s 10ms/step - loss: 0.0907 - coords_output_loss: 6.0741e-04 - angles_output_loss: 0.1801 - coords_output_mean_squared_error: 6.0739e-04 - angles_output_mean_squared_error: 0.1801 - val_loss: 0.0044 - val_coords_output_loss: 1.4592e-04 - val_angles_output_loss: 0.0086 - val_coords_output_mean_squared_error: 1.4591e-04 - val_angles_output_mean_squared_error: 0.0086\n",
            "Epoch 12/50\n",
            "4060/4063 [============================>.] - ETA: 0s - loss: 0.0891 - coords_output_loss: 5.9489e-04 - angles_output_loss: 0.1769 - coords_output_mean_squared_error: 5.9489e-04 - angles_output_mean_squared_error: 0.1769\n",
            "Epoch 12: val_loss did not improve from 0.00444\n",
            "4063/4063 [==============================] - 41s 10ms/step - loss: 0.0891 - coords_output_loss: 5.9485e-04 - angles_output_loss: 0.1769 - coords_output_mean_squared_error: 5.9485e-04 - angles_output_mean_squared_error: 0.1769 - val_loss: 0.0070 - val_coords_output_loss: 1.3878e-04 - val_angles_output_loss: 0.0138 - val_coords_output_mean_squared_error: 1.3877e-04 - val_angles_output_mean_squared_error: 0.0138\n",
            "Epoch 13/50\n",
            "4058/4063 [============================>.] - ETA: 0s - loss: 0.0907 - coords_output_loss: 5.9915e-04 - angles_output_loss: 0.1803 - coords_output_mean_squared_error: 5.9915e-04 - angles_output_mean_squared_error: 0.1803\n",
            "Epoch 13: val_loss improved from 0.00444 to 0.00444, saving model to ./models/multi_output_model_cp.ckpt\n",
            "4063/4063 [==============================] - 42s 10ms/step - loss: 0.0907 - coords_output_loss: 5.9915e-04 - angles_output_loss: 0.1803 - coords_output_mean_squared_error: 5.9919e-04 - angles_output_mean_squared_error: 0.1803 - val_loss: 0.0044 - val_coords_output_loss: 1.5137e-04 - val_angles_output_loss: 0.0086 - val_coords_output_mean_squared_error: 1.5136e-04 - val_angles_output_mean_squared_error: 0.0086\n",
            "Epoch 14/50\n",
            "4062/4063 [============================>.] - ETA: 0s - loss: 0.0884 - coords_output_loss: 5.8497e-04 - angles_output_loss: 0.1757 - coords_output_mean_squared_error: 5.8497e-04 - angles_output_mean_squared_error: 0.1757\n",
            "Epoch 14: val_loss did not improve from 0.00444\n",
            "4063/4063 [==============================] - 42s 10ms/step - loss: 0.0884 - coords_output_loss: 5.8499e-04 - angles_output_loss: 0.1757 - coords_output_mean_squared_error: 5.8500e-04 - angles_output_mean_squared_error: 0.1757 - val_loss: 0.0048 - val_coords_output_loss: 2.4290e-04 - val_angles_output_loss: 0.0091 - val_coords_output_mean_squared_error: 2.4289e-04 - val_angles_output_mean_squared_error: 0.0091\n",
            "Epoch 15/50\n",
            "4059/4063 [============================>.] - ETA: 0s - loss: 0.0900 - coords_output_loss: 5.8902e-04 - angles_output_loss: 0.1788 - coords_output_mean_squared_error: 5.8902e-04 - angles_output_mean_squared_error: 0.1788\n",
            "Epoch 15: val_loss did not improve from 0.00444\n",
            "4063/4063 [==============================] - 41s 10ms/step - loss: 0.0900 - coords_output_loss: 5.8911e-04 - angles_output_loss: 0.1788 - coords_output_mean_squared_error: 5.8908e-04 - angles_output_mean_squared_error: 0.1788 - val_loss: 0.0046 - val_coords_output_loss: 1.4772e-04 - val_angles_output_loss: 0.0089 - val_coords_output_mean_squared_error: 1.4770e-04 - val_angles_output_mean_squared_error: 0.0089\n",
            "Epoch 16/50\n",
            "4063/4063 [==============================] - ETA: 0s - loss: 0.0886 - coords_output_loss: 5.7795e-04 - angles_output_loss: 0.1761 - coords_output_mean_squared_error: 5.7810e-04 - angles_output_mean_squared_error: 0.1762\n",
            "Epoch 16: val_loss did not improve from 0.00444\n",
            "4063/4063 [==============================] - 41s 10ms/step - loss: 0.0886 - coords_output_loss: 5.7795e-04 - angles_output_loss: 0.1761 - coords_output_mean_squared_error: 5.7810e-04 - angles_output_mean_squared_error: 0.1762 - val_loss: 0.0054 - val_coords_output_loss: 1.4675e-04 - val_angles_output_loss: 0.0104 - val_coords_output_mean_squared_error: 1.4674e-04 - val_angles_output_mean_squared_error: 0.0104\n",
            "Epoch 17/50\n",
            "4059/4063 [============================>.] - ETA: 0s - loss: 0.0896 - coords_output_loss: 5.8337e-04 - angles_output_loss: 0.1780 - coords_output_mean_squared_error: 5.8337e-04 - angles_output_mean_squared_error: 0.1780\n",
            "Epoch 17: val_loss did not improve from 0.00444\n",
            "4063/4063 [==============================] - 41s 10ms/step - loss: 0.0896 - coords_output_loss: 5.8336e-04 - angles_output_loss: 0.1780 - coords_output_mean_squared_error: 5.8333e-04 - angles_output_mean_squared_error: 0.1780 - val_loss: 0.0050 - val_coords_output_loss: 1.3067e-04 - val_angles_output_loss: 0.0097 - val_coords_output_mean_squared_error: 1.3066e-04 - val_angles_output_mean_squared_error: 0.0097\n",
            "Epoch 18/50\n",
            "4062/4063 [============================>.] - ETA: 0s - loss: 0.0885 - coords_output_loss: 5.7377e-04 - angles_output_loss: 0.1758 - coords_output_mean_squared_error: 5.7377e-04 - angles_output_mean_squared_error: 0.1758\n",
            "Epoch 18: val_loss did not improve from 0.00444\n",
            "4063/4063 [==============================] - 42s 10ms/step - loss: 0.0885 - coords_output_loss: 5.7379e-04 - angles_output_loss: 0.1759 - coords_output_mean_squared_error: 5.7381e-04 - angles_output_mean_squared_error: 0.1759 - val_loss: 0.0048 - val_coords_output_loss: 1.5093e-04 - val_angles_output_loss: 0.0094 - val_coords_output_mean_squared_error: 1.5091e-04 - val_angles_output_mean_squared_error: 0.0094\n",
            "Epoch 19/50\n",
            "4060/4063 [============================>.] - ETA: 0s - loss: 0.0886 - coords_output_loss: 5.7510e-04 - angles_output_loss: 0.1761 - coords_output_mean_squared_error: 5.7510e-04 - angles_output_mean_squared_error: 0.1761\n",
            "Epoch 19: val_loss did not improve from 0.00444\n",
            "4063/4063 [==============================] - 42s 10ms/step - loss: 0.0886 - coords_output_loss: 5.7505e-04 - angles_output_loss: 0.1761 - coords_output_mean_squared_error: 5.7502e-04 - angles_output_mean_squared_error: 0.1760 - val_loss: 0.0084 - val_coords_output_loss: 1.4218e-04 - val_angles_output_loss: 0.0166 - val_coords_output_mean_squared_error: 1.4217e-04 - val_angles_output_mean_squared_error: 0.0166\n",
            "Epoch 20/50\n",
            "4060/4063 [============================>.] - ETA: 0s - loss: 0.0896 - coords_output_loss: 5.7353e-04 - angles_output_loss: 0.1781 - coords_output_mean_squared_error: 5.7353e-04 - angles_output_mean_squared_error: 0.1781\n",
            "Epoch 20: val_loss did not improve from 0.00444\n",
            "4063/4063 [==============================] - 41s 10ms/step - loss: 0.0896 - coords_output_loss: 5.7363e-04 - angles_output_loss: 0.1781 - coords_output_mean_squared_error: 5.7378e-04 - angles_output_mean_squared_error: 0.1781 - val_loss: 0.0050 - val_coords_output_loss: 1.4655e-04 - val_angles_output_loss: 0.0098 - val_coords_output_mean_squared_error: 1.4654e-04 - val_angles_output_mean_squared_error: 0.0098\n",
            "Epoch 21/50\n",
            "4061/4063 [============================>.] - ETA: 0s - loss: 0.0899 - coords_output_loss: 5.7495e-04 - angles_output_loss: 0.1786 - coords_output_mean_squared_error: 5.7495e-04 - angles_output_mean_squared_error: 0.1786\n",
            "Epoch 21: val_loss did not improve from 0.00444\n",
            "4063/4063 [==============================] - 41s 10ms/step - loss: 0.0899 - coords_output_loss: 5.7498e-04 - angles_output_loss: 0.1786 - coords_output_mean_squared_error: 5.7501e-04 - angles_output_mean_squared_error: 0.1786 - val_loss: 0.0061 - val_coords_output_loss: 1.3811e-04 - val_angles_output_loss: 0.0119 - val_coords_output_mean_squared_error: 1.3810e-04 - val_angles_output_mean_squared_error: 0.0119\n",
            "Epoch 22/50\n",
            "4062/4063 [============================>.] - ETA: 0s - loss: 0.0893 - coords_output_loss: 5.7037e-04 - angles_output_loss: 0.1775 - coords_output_mean_squared_error: 5.7037e-04 - angles_output_mean_squared_error: 0.1775\n",
            "Epoch 22: val_loss improved from 0.00444 to 0.00384, saving model to ./models/multi_output_model_cp.ckpt\n",
            "4063/4063 [==============================] - 42s 10ms/step - loss: 0.0893 - coords_output_loss: 5.7040e-04 - angles_output_loss: 0.1775 - coords_output_mean_squared_error: 5.7043e-04 - angles_output_mean_squared_error: 0.1776 - val_loss: 0.0038 - val_coords_output_loss: 1.3482e-04 - val_angles_output_loss: 0.0074 - val_coords_output_mean_squared_error: 1.3481e-04 - val_angles_output_mean_squared_error: 0.0074\n",
            "Epoch 23/50\n",
            "4058/4063 [============================>.] - ETA: 0s - loss: 0.0905 - coords_output_loss: 5.7353e-04 - angles_output_loss: 0.1798 - coords_output_mean_squared_error: 5.7353e-04 - angles_output_mean_squared_error: 0.1798\n",
            "Epoch 23: val_loss did not improve from 0.00384\n",
            "4063/4063 [==============================] - 42s 10ms/step - loss: 0.0904 - coords_output_loss: 5.7339e-04 - angles_output_loss: 0.1797 - coords_output_mean_squared_error: 5.7337e-04 - angles_output_mean_squared_error: 0.1797 - val_loss: 0.0059 - val_coords_output_loss: 1.6108e-04 - val_angles_output_loss: 0.0115 - val_coords_output_mean_squared_error: 1.6107e-04 - val_angles_output_mean_squared_error: 0.0115\n",
            "Epoch 24/50\n",
            "4062/4063 [============================>.] - ETA: 0s - loss: 0.0885 - coords_output_loss: 5.6317e-04 - angles_output_loss: 0.1758 - coords_output_mean_squared_error: 5.6317e-04 - angles_output_mean_squared_error: 0.1758\n",
            "Epoch 24: val_loss did not improve from 0.00384\n",
            "4063/4063 [==============================] - 42s 10ms/step - loss: 0.0885 - coords_output_loss: 5.6315e-04 - angles_output_loss: 0.1758 - coords_output_mean_squared_error: 5.6312e-04 - angles_output_mean_squared_error: 0.1758 - val_loss: 0.0042 - val_coords_output_loss: 1.4754e-04 - val_angles_output_loss: 0.0081 - val_coords_output_mean_squared_error: 1.4753e-04 - val_angles_output_mean_squared_error: 0.0081\n",
            "Epoch 25/50\n",
            " 150/4063 [>.............................] - ETA: 36s - loss: 0.0872 - coords_output_loss: 5.5504e-04 - angles_output_loss: 0.1734 - coords_output_mean_squared_error: 5.5504e-04 - angles_output_mean_squared_error: 0.1734"
          ]
        }
      ],
      "source": [
        "model = BranchedRegModel1().assemble_full_model(inputs_shape=(13,21,1))\n",
        "\n",
        "checkpoint_path = \"./models/multi_output_model_cp.ckpt\"\n",
        "\n",
        "# Create a callback that saves the model's weights \n",
        "# currently, model weights are saved for each training\n",
        "# to do - update for early stopping\n",
        "cp_callback = ModelCheckpoint(filepath=checkpoint_path,\n",
        "                              save_weights_only=True,\n",
        "                              verbose=1,\n",
        "                              save_best_only = True)\n",
        "\n",
        "csv_logger = CSVLogger('log.csv', append=True, separator=';')\n",
        "# es = EarlyStopping(monitor = \"val_loss\",patience=20, min_delta = 1e-5,mode=\"min\")\n",
        "batch_size = 128\n",
        "init_lr = 0.05\n",
        "epochs = 50\n",
        "opt = Adam(lr=init_lr, decay=init_lr / epochs)\n",
        "\n",
        "model.compile(loss = {'coords_output': 'mse',\n",
        "                      'angles_output': 'mse'},\n",
        "              optimizer=opt,  \n",
        "              metrics= {'coords_output': MeanSquaredError(),\n",
        "                      'angles_output': MeanSquaredError()},\n",
        "              loss_weights= {'coords_output': 1. ,\n",
        "                            'angles_output': 0.5}       \n",
        "             )\n",
        "\n",
        "history = model.fit(\n",
        "          X_train, trainY,\n",
        "          batch_size=batch_size,\n",
        "          epochs=epochs,\n",
        "          verbose=1,\n",
        "          validation_data=(X_test, testY),\n",
        "          callbacks=[cp_callback, csv_logger],\n",
        "          )"
      ]
    },
    {
      "cell_type": "code",
      "execution_count": null,
      "id": "cfb127e5",
      "metadata": {
        "id": "cfb127e5"
      },
      "outputs": [],
      "source": [
        "res = model.evaluate(\n",
        "    X_test, y_test, batch_size=batch_size,\n",
        ")\n",
        "\n",
        "predictions = model.predict(X_test, batch_size=batch_size, callbacks=[CustomCallback()])\n",
        "\n",
        "# print(len(predictions))\n",
        "# df_predict = pd.DataFrame(predictions, columns=['x_entry', 'y_entry', 'cotAlpha', 'cotBeta'])\n",
        "# trueLabels = pd.DataFrame(y_test, columns=['x_entry', 'y_entry', 'cotAlpha', 'cotBeta'])"
      ]
    },
    {
      "cell_type": "code",
      "execution_count": null,
      "id": "4e5f6f6c",
      "metadata": {
        "id": "4e5f6f6c"
      },
      "outputs": [],
      "source": [
        "def calc_residuals(y, y_pred):\n",
        "    res = y - y_pred\n",
        "    return np.mean(res), np.std(res)\n",
        "\n",
        "res = []\n",
        "for col in df_predict.columns:\n",
        "    mean,sd = calc_residuals(trueLabels[col],df_predict[col])\n",
        "    res.append([col, mean, sd])"
      ]
    },
    {
      "cell_type": "code",
      "execution_count": null,
      "id": "43545250",
      "metadata": {
        "id": "43545250"
      },
      "outputs": [],
      "source": [
        "pd.DataFrame(res, columns = [\"variable\",\"mean\", \"std\"], index = None)"
      ]
    },
    {
      "cell_type": "code",
      "source": [
        "plt.rcParams['font.family'] = [u'serif']\n",
        "plt.rcParams['legend.title_fontsize'] = 'xx-small'\n",
        "fig = plt.figure(figsize = (5,5), dpi = 75)\n",
        "plt.plot(history.history['loss'], label='train_loss', color = \"black\")\n",
        "plt.plot(history.history['val_loss'], label = 'val_loss', color = \"red\")\n",
        "plt.xlabel('Epoch')\n",
        "plt.ylabel('Loss')\n",
        "plt.legend(loc='upper right')\n",
        "plt.minorticks_on()\n",
        "plt.grid(which='major', linestyle='-', linewidth='0.25', alpha=0.5,color='black')\n",
        "plt.grid(which='minor', linestyle=':', linewidth='0.25', alpha=0.5,color='black')\n",
        "plt.title(\"loss curve\")\n",
        "plt.show()"
      ],
      "metadata": {
        "id": "_vtLb1eZeL07"
      },
      "id": "_vtLb1eZeL07",
      "execution_count": null,
      "outputs": []
    },
    {
      "cell_type": "code",
      "source": [
        "plt.rcParams['font.family'] = [u'serif']\n",
        "plt.rcParams['legend.title_fontsize'] = 'xx-small'\n",
        "fig = plt.figure(figsize = (5,5), dpi = 75)\n",
        "plt.plot(history.history['val_mean_squared_error'], label='val_mse', color = \"blue\")\n",
        "plt.plot(history.history['mean_squared_error'], label = 'mse', color = \"red\")\n",
        "plt.xlabel('Epoch')\n",
        "plt.ylabel('Loss')\n",
        "plt.legend(loc='upper right')\n",
        "plt.minorticks_on()\n",
        "plt.grid(which='major', linestyle='-', linewidth='0.25', alpha=0.5,color='black')\n",
        "plt.grid(which='minor', linestyle=':', linewidth='0.25', alpha=0.5,color='black')\n",
        "# plt.title(\"loss curve\")\n",
        "plt.show()"
      ],
      "metadata": {
        "id": "Yo2XmZy0n6cW"
      },
      "id": "Yo2XmZy0n6cW",
      "execution_count": null,
      "outputs": []
    },
    {
      "cell_type": "code",
      "source": [
        "# def saving_model(model,\n",
        "#                  filepath:str ='',\n",
        "#                  model_filename:str ='model'):\n",
        "#     \"\"\"\n",
        "#     Helper function to save the trained pruned models in the following format:\n",
        "#         Config -> JSON file format\n",
        "#         Weights -> H5PY file format\n",
        "#     :param model: Keras Model object\n",
        "#     :param filepath: path to store the file in the directory\n",
        "#     :param model_filename: name for the model\n",
        "#     :return: None\n",
        "#     \"\"\" \n",
        "#     # serialize model to JSON\n",
        "#     model_json = model.to_json()\n",
        "#     with open(filepath + \"/\" + model_filename + \".json\", \"w\") as json_file:\n",
        "#         json_file.write(model_json)\n",
        "#     # serialize weights to HDF5\n",
        "#     model.save_weights(filepath + \"/\" + model_filename + \"_weights.h5\")\n",
        "#     print(\"Saved model to disk\")"
      ],
      "metadata": {
        "id": "L5touCrBIGKB"
      },
      "id": "L5touCrBIGKB",
      "execution_count": null,
      "outputs": []
    },
    {
      "cell_type": "code",
      "source": [
        "# saving_model(model, filepath = sys.path[-1] + \"/\" + \"models\", model_filename = \"BRM_02\")"
      ],
      "metadata": {
        "id": "t2j5mU91K9ow"
      },
      "id": "t2j5mU91K9ow",
      "execution_count": null,
      "outputs": []
    },
    {
      "cell_type": "markdown",
      "source": [
        "### **Model Evaluation:**"
      ],
      "metadata": {
        "id": "OlLqveM_gLK9"
      },
      "id": "OlLqveM_gLK9"
    },
    {
      "cell_type": "code",
      "source": [
        "from keras.models import model_from_json\n",
        "def load_model(model_filename):\n",
        "        model_path = sys.path[-1] + \"/models/\" + model_filename + \".json\"\n",
        "        print ( model_path )\n",
        "        model_weights_path = sys.path[-1] + \"/models/\" + model_filename + \"_weights.h5\"\n",
        "        print ( model_weights_path )\n",
        "        with open ( model_path , 'r' ) as f :\n",
        "            loaded_model_json = f.read ( )\n",
        "        loaded_model = model_from_json ( loaded_model_json )\n",
        "        loaded_model.load_weights ( model_weights_path )\n",
        "\n",
        "        return loaded_model"
      ],
      "metadata": {
        "id": "j7ckpgDvLJ1B"
      },
      "id": "j7ckpgDvLJ1B",
      "execution_count": null,
      "outputs": []
    },
    {
      "cell_type": "code",
      "source": [
        "model = load_model(model_filename = \"BRM_02\")"
      ],
      "metadata": {
        "id": "DgmDIetpkSkT",
        "colab": {
          "base_uri": "https://localhost:8080/"
        },
        "outputId": "1dcc2896-25d3-4f9b-bafd-9c56c43f7e17"
      },
      "id": "DgmDIetpkSkT",
      "execution_count": null,
      "outputs": [
        {
          "output_type": "stream",
          "name": "stdout",
          "text": [
            "/content/drive/MyDrive/smart-pixels/models/BRM_02.json\n",
            "/content/drive/MyDrive/smart-pixels/models/BRM_02_weights.h5\n"
          ]
        }
      ]
    },
    {
      "cell_type": "code",
      "source": [
        "predictions = model.predict(X_test, batch_size=64, callbacks=[CustomCallback()])\n",
        "print(len(predictions))\n",
        "df_predict = pd.DataFrame(predictions, columns=['x_entry', 'y_entry', 'cotAlpha', 'cotBeta'])\n",
        "trueLabels = pd.DataFrame(y_test, columns=['x_entry', 'y_entry', 'cotAlpha', 'cotBeta'])"
      ],
      "metadata": {
        "id": "U9_pk8rPkXRR",
        "colab": {
          "base_uri": "https://localhost:8080/"
        },
        "outputId": "c3290850-b975-4f9a-a41a-5a51b47b877d"
      },
      "id": "U9_pk8rPkXRR",
      "execution_count": null,
      "outputs": [
        {
          "output_type": "stream",
          "name": "stdout",
          "text": [
            "Start predicting; got log keys: []\n",
            "Stop predicting; got log keys: []\n",
            "130000\n"
          ]
        }
      ]
    },
    {
      "cell_type": "code",
      "source": [
        "plt.rcParams['font.family'] = [u'serif']\n",
        "fig = plt.figure(figsize = (5,5), dpi = 75)\n",
        "# sns.scatterplot(x = trueLabels['y_entry'], y = trueLabels['y_entry'] - df_predict['x_entry'])\n",
        "sns.regplot(x=trueLabels['y_entry'], y=trueLabels['y_entry'] - df_predict['y_entry'], x_bins=10, marker='+', fit_reg = True, x_estimator = np.mean)\n",
        "plt.xlabel(r'y_entry (true)')\n",
        "plt.ylabel(r'$\\Delta y\\_entry_{(true - predicted)}$')\n",
        "# plt.xlim([-0.3,0.3])\n",
        "plt.minorticks_on()\n",
        "plt.grid(which='major', linestyle='-', linewidth='0.25', alpha=0.5,color='black')\n",
        "plt.grid(which='minor', linestyle=':', linewidth='0.25', alpha=0.5,color='black')\n",
        "plt.show()"
      ],
      "metadata": {
        "colab": {
          "base_uri": "https://localhost:8080/",
          "height": 345
        },
        "id": "M5XT-DDqLh4l",
        "outputId": "831ef0bb-d91a-4c87-9e0c-f2363d482125"
      },
      "id": "M5XT-DDqLh4l",
      "execution_count": null,
      "outputs": [
        {
          "output_type": "display_data",
          "data": {
            "image/png": "[encoded data removed]",
            "text/plain": [
              "<Figure size 375x375 with 1 Axes>"
            ]
          },
          "metadata": {
            "needs_background": "light"
          }
        }
      ]
    },
    {
      "cell_type": "code",
      "source": [
        "plt.rcParams['font.family'] = [u'serif']\n",
        "fig = plt.figure(figsize = (5,5), dpi = 75)\n",
        "sns.regplot(x=trueLabels['x_entry'], y=trueLabels['x_entry'] - df_predict['x_entry'], x_bins=10, marker='+', fit_reg = True, x_estimator = np.mean)\n",
        "plt.xlabel(r'x_entry (true)')\n",
        "plt.ylabel(r'$\\Delta x\\_entry_{(true - predicted)}$')\n",
        "# plt.xlim([-0.3,0.3])\n",
        "plt.minorticks_on()\n",
        "plt.grid(which='major', linestyle='-', linewidth='0.25', alpha=0.5,color='black')\n",
        "plt.grid(which='minor', linestyle=':', linewidth='0.25', alpha=0.5,color='black')\n",
        "plt.show()"
      ],
      "metadata": {
        "colab": {
          "base_uri": "https://localhost:8080/",
          "height": 345
        },
        "id": "2HYsXhmh5yzY",
        "outputId": "aa3439f1-8712-444a-8c10-aae8727caa0c"
      },
      "id": "2HYsXhmh5yzY",
      "execution_count": null,
      "outputs": [
        {
          "output_type": "display_data",
          "data": {
            "image/png": "[encoded data removed]",
            "text/plain": [
              "<Figure size 375x375 with 1 Axes>"
            ]
          },
          "metadata": {
            "needs_background": "light"
          }
        }
      ]
    },
    {
      "cell_type": "code",
      "source": [
        "plt.rcParams['font.family'] = [u'serif']\n",
        "fig = plt.figure(figsize = (5,5), dpi = 75)\n",
        "sns.regplot(x=trueLabels['cotAlpha'], y=trueLabels['cotAlpha'] - df_predict['cotAlpha'], x_bins=10, marker='+', fit_reg = True, x_estimator = np.mean)\n",
        "plt.xlabel(r'cot $\\alpha$ (true)')\n",
        "plt.ylabel(r'$\\Delta$ cot $\\alpha_{(true - predicted)}$')\n",
        "# plt.xlim([-0.3,0.3])\n",
        "plt.minorticks_on()\n",
        "plt.grid(which='major', linestyle='-', linewidth='0.25', alpha=0.5,color='black')\n",
        "plt.grid(which='minor', linestyle=':', linewidth='0.25', alpha=0.5,color='black')\n",
        "plt.show()"
      ],
      "metadata": {
        "colab": {
          "base_uri": "https://localhost:8080/",
          "height": 348
        },
        "id": "wzeo4p93EFV5",
        "outputId": "5839d304-03f8-4ad4-c106-bd6a2bb15010"
      },
      "id": "wzeo4p93EFV5",
      "execution_count": null,
      "outputs": [
        {
          "output_type": "display_data",
          "data": {
            "image/png": "[encoded data removed]",
            "text/plain": [
              "<Figure size 375x375 with 1 Axes>"
            ]
          },
          "metadata": {
            "needs_background": "light"
          }
        }
      ]
    },
    {
      "cell_type": "code",
      "source": [
        "plt.rcParams['font.family'] = [u'serif']\n",
        "fig = plt.figure(figsize = (5,5), dpi = 75)\n",
        "sns.regplot(x=trueLabels['cotBeta'], y=trueLabels['cotBeta'] - df_predict['cotBeta'], x_bins=10, marker='+', fit_reg = True, x_estimator = np.mean)\n",
        "plt.xlabel(r'cot $\\beta$ (true)')\n",
        "plt.ylabel(r'$\\Delta$ cot $\\beta_{(true - predicted)}$')\n",
        "# plt.xlim([-0.3,0.3])\n",
        "plt.minorticks_on()\n",
        "plt.grid(which='major', linestyle='-', linewidth='0.25', alpha=0.5,color='black')\n",
        "plt.grid(which='minor', linestyle=':', linewidth='0.25', alpha=0.5,color='black')\n",
        "plt.show()"
      ],
      "metadata": {
        "colab": {
          "base_uri": "https://localhost:8080/",
          "height": 240
        },
        "id": "zsDs3CiUEXIc",
        "outputId": "218f1304-8b5a-443b-e4d5-ef3b7a8c7927"
      },
      "id": "zsDs3CiUEXIc",
      "execution_count": null,
      "outputs": [
        {
          "output_type": "error",
          "ename": "NameError",
          "evalue": "ignored",
          "traceback": [
            "\u001b[0;31m---------------------------------------------------------------------------\u001b[0m",
            "\u001b[0;31mNameError\u001b[0m                                 Traceback (most recent call last)",
            "\u001b[0;32m<ipython-input-1-145f7d87b144>\u001b[0m in \u001b[0;36m<module>\u001b[0;34m()\u001b[0m\n\u001b[0;32m----> 1\u001b[0;31m \u001b[0mplt\u001b[0m\u001b[0;34m.\u001b[0m\u001b[0mrcParams\u001b[0m\u001b[0;34m[\u001b[0m\u001b[0;34m'font.family'\u001b[0m\u001b[0;34m]\u001b[0m \u001b[0;34m=\u001b[0m \u001b[0;34m[\u001b[0m\u001b[0;34mu'serif'\u001b[0m\u001b[0;34m]\u001b[0m\u001b[0;34m\u001b[0m\u001b[0;34m\u001b[0m\u001b[0m\n\u001b[0m\u001b[1;32m      2\u001b[0m \u001b[0mfig\u001b[0m \u001b[0;34m=\u001b[0m \u001b[0mplt\u001b[0m\u001b[0;34m.\u001b[0m\u001b[0mfigure\u001b[0m\u001b[0;34m(\u001b[0m\u001b[0mfigsize\u001b[0m \u001b[0;34m=\u001b[0m \u001b[0;34m(\u001b[0m\u001b[0;36m5\u001b[0m\u001b[0;34m,\u001b[0m\u001b[0;36m5\u001b[0m\u001b[0;34m)\u001b[0m\u001b[0;34m,\u001b[0m \u001b[0mdpi\u001b[0m \u001b[0;34m=\u001b[0m \u001b[0;36m75\u001b[0m\u001b[0;34m)\u001b[0m\u001b[0;34m\u001b[0m\u001b[0;34m\u001b[0m\u001b[0m\n\u001b[1;32m      3\u001b[0m \u001b[0msns\u001b[0m\u001b[0;34m.\u001b[0m\u001b[0mscatterplot\u001b[0m\u001b[0;34m(\u001b[0m\u001b[0mx\u001b[0m\u001b[0;34m=\u001b[0m\u001b[0mtrueLabels\u001b[0m\u001b[0;34m[\u001b[0m\u001b[0;34m'cotBeta'\u001b[0m\u001b[0;34m]\u001b[0m\u001b[0;34m,\u001b[0m \u001b[0my\u001b[0m\u001b[0;34m=\u001b[0m\u001b[0mtrueLabels\u001b[0m\u001b[0;34m[\u001b[0m\u001b[0;34m'cotBeta'\u001b[0m\u001b[0;34m]\u001b[0m \u001b[0;34m-\u001b[0m \u001b[0mdf_predict\u001b[0m\u001b[0;34m[\u001b[0m\u001b[0;34m'cotBeta'\u001b[0m\u001b[0;34m]\u001b[0m\u001b[0;34m)\u001b[0m\u001b[0;34m\u001b[0m\u001b[0;34m\u001b[0m\u001b[0m\n\u001b[1;32m      4\u001b[0m \u001b[0mplt\u001b[0m\u001b[0;34m.\u001b[0m\u001b[0mxlabel\u001b[0m\u001b[0;34m(\u001b[0m\u001b[0;34mr'cot $\\beta$ (true)'\u001b[0m\u001b[0;34m)\u001b[0m\u001b[0;34m\u001b[0m\u001b[0;34m\u001b[0m\u001b[0m\n\u001b[1;32m      5\u001b[0m \u001b[0mplt\u001b[0m\u001b[0;34m.\u001b[0m\u001b[0mylabel\u001b[0m\u001b[0;34m(\u001b[0m\u001b[0;34mr'$\\Delta$ cot $\\beta_{(true - predicted)}$'\u001b[0m\u001b[0;34m)\u001b[0m\u001b[0;34m\u001b[0m\u001b[0;34m\u001b[0m\u001b[0m\n",
            "\u001b[0;31mNameError\u001b[0m: name 'plt' is not defined"
          ]
        }
      ]
    },
    {
      "cell_type": "code",
      "source": [
        "X, Y = np.array(trueLabels['cotAlpha']), np.array(trueLabels['cotAlpha'] - df_predict['cotAlpha'])\n",
        "from scipy.stats import pearsonr, spearmanr\n",
        "print(pearsonr(X,Y))\n",
        "print(spearmanr(X,Y))\n",
        "# covXY = np.cov(X,Y)\n",
        "# stdX, stdY = np.std(X), np.std(Y)\n",
        "# corr = covXY/(stdX*stdY)\n",
        "# print(corr)"
      ],
      "metadata": {
        "colab": {
          "base_uri": "https://localhost:8080/"
        },
        "id": "NI9SCrbLz9vT",
        "outputId": "c02fcfe3-35e1-4a91-da6a-5fd05c5ff998"
      },
      "id": "NI9SCrbLz9vT",
      "execution_count": null,
      "outputs": [
        {
          "output_type": "stream",
          "name": "stdout",
          "text": [
            "(0.22468646777188006, 0.0)\n",
            "SpearmanrResult(correlation=0.23589007491824784, pvalue=0.0)\n"
          ]
        }
      ]
    },
    {
      "cell_type": "code",
      "source": [
        "sns.distplot(df_predict['x_entry'], kde= False, bins=100)\n",
        "plt.xlabel(r'x_entry ($\\mu$m)')\n",
        "plt.ylabel('frequency')\n",
        "plt.xlim([-500,500])\n",
        "plt.title(\"x_entry (predicted)\")\n",
        "plt.show()"
      ],
      "metadata": {
        "id": "UaQEMxFrkidk"
      },
      "id": "UaQEMxFrkidk",
      "execution_count": null,
      "outputs": []
    },
    {
      "cell_type": "code",
      "source": [
        "sns.distplot(trueLabels['x_entry'] - df_predict['x_entry'], kde=False, bins=100)\n",
        "plt.xlabel(r'x_entry ($\\mu$m)')\n",
        "plt.ylabel('frequency')\n",
        "plt.xlim([-50,50])\n",
        "plt.title(\"x_entry residuals\")\n",
        "plt.show()"
      ],
      "metadata": {
        "id": "eDHNqRxHkmMc"
      },
      "id": "eDHNqRxHkmMc",
      "execution_count": null,
      "outputs": []
    },
    {
      "cell_type": "code",
      "source": [
        "sns.distplot(df_predict['y_entry'], kde=False, bins=100)\n",
        "plt.xlabel(r'y_entry ($\\mu$m)')\n",
        "plt.xlim([-20,20])\n",
        "plt.ylabel('frequency')\n",
        "plt.title(\"y_entry (predicted)\")\n",
        "plt.show()"
      ],
      "metadata": {
        "id": "A5QOe0A3lu-h"
      },
      "id": "A5QOe0A3lu-h",
      "execution_count": null,
      "outputs": []
    },
    {
      "cell_type": "code",
      "source": [
        "sns.distplot(trueLabels['y_entry']-df_predict['y_entry'], kde=False, bins=100)\n",
        "plt.xlabel(r'y_entry residual ($\\mu$m)')\n",
        "plt.ylabel('frequency')\n",
        "plt.xlim([-10,10])\n",
        "plt.title('y-entry residuals')\n",
        "plt.show()"
      ],
      "metadata": {
        "id": "kVS0fxqck-DS"
      },
      "id": "kVS0fxqck-DS",
      "execution_count": null,
      "outputs": []
    },
    {
      "cell_type": "code",
      "source": [
        "sns.distplot(df_predict['cotBeta'], kde=False, bins=100)\n",
        "plt.xlabel(r'cot$\\beta$')\n",
        "plt.ylabel('frequency')\n",
        "plt.xlim([-0.4,0.4])\n",
        "plt.title(r'cot$\\beta$ (predicted)')"
      ],
      "metadata": {
        "id": "IWrQo7Kilctv"
      },
      "id": "IWrQo7Kilctv",
      "execution_count": null,
      "outputs": []
    },
    {
      "cell_type": "code",
      "source": [
        "sns.distplot(trueLabels['cotBeta']-df_predict['cotBeta'], kde=False, bins=100)\n",
        "plt.xlabel(r'cot$\\beta$')\n",
        "plt.ylabel('frequency')\n",
        "plt.xlim([-.2,.2])\n",
        "plt.title(r'cot$\\beta$ residuals')\n",
        "plt.show()"
      ],
      "metadata": {
        "id": "K7PdoAKsl_nk"
      },
      "id": "K7PdoAKsl_nk",
      "execution_count": null,
      "outputs": []
    },
    {
      "cell_type": "code",
      "source": [
        "sns.distplot(trueLabels['cotAlpha']-df_predict['cotAlpha'], kde=False, bins=100)\n",
        "plt.xlabel(r'cot$\\alpha$')\n",
        "plt.ylabel('frequency')\n",
        "plt.xlim([-2,2])\n",
        "plt.title(r'cot$\\alpha$ residuals')\n",
        "plt.show()"
      ],
      "metadata": {
        "id": "l9vbQBjSmNLm"
      },
      "id": "l9vbQBjSmNLm",
      "execution_count": null,
      "outputs": []
    },
    {
      "cell_type": "code",
      "source": [
        "sns.distplot(trueLabels['cotAlpha'], kde=False, bins=100)\n",
        "# sns.distplot(df_predict['cotAlpha'], kde=False, bins=100)\n",
        "plt.xlabel(r'cot$\\alpha$')\n",
        "plt.ylabel('frequency')\n",
        "plt.xlim([-10,10])\n",
        "plt.title(r'cot$\\alpha$ (true)')\n",
        "plt.show()"
      ],
      "metadata": {
        "id": "COBA1V4onLAo"
      },
      "id": "COBA1V4onLAo",
      "execution_count": null,
      "outputs": []
    },
    {
      "cell_type": "code",
      "source": [
        ""
      ],
      "metadata": {
        "id": "NS22vmwFngP9"
      },
      "id": "NS22vmwFngP9",
      "execution_count": null,
      "outputs": []
    }
  ],
  "metadata": {
    "kernelspec": {
      "display_name": "Python 3 (ipykernel)",
      "language": "python",
      "name": "python3"
    },
    "language_info": {
      "codemirror_mode": {
        "name": "ipython",
        "version": 3
      },
      "file_extension": ".py",
      "mimetype": "text/x-python",
      "name": "python",
      "nbconvert_exporter": "python",
      "pygments_lexer": "ipython3",
      "version": "3.8.12"
    },
    "colab": {
      "name": "Branched Regression Model",
      "provenance": [],
      "collapsed_sections": [],
      "machine_shape": "hm"
    },
    "accelerator": "GPU"
  },
  "nbformat": 4,
  "nbformat_minor": 5
}