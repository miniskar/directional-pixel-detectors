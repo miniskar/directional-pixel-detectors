{
  "cells": [
    {
      "cell_type": "code",
      "execution_count": null,
      "id": "d2990b6a",
      "metadata": {
        "id": "d2990b6a",
        "colab": {
          "base_uri": "https://localhost:8080/"
        },
        "outputId": "83bbfbf8-4827-4e00-8370-261b3b5e8b45"
      },
      "outputs": [
        {
          "output_type": "stream",
          "name": "stdout",
          "text": [
            "Mounted at /content/drive\n"
          ]
        }
      ],
      "source": [
        "from google.colab import drive\n",
        "drive.mount('/content/drive', force_remount = True)\n",
        "# Set directory as default system path\n",
        "import sys\n",
        "sys.path.append('/content/drive/MyDrive/smart-pixels')"
      ]
    },
    {
      "cell_type": "code",
      "source": [
        "import tensorflow as tf\n",
        "print(\"Num GPUs Available: \", len(tf.config.list_physical_devices('GPU')))\n",
        "import keras\n",
        "import pandas as pd\n",
        "import numpy as np\n",
        "from global_vars import * \n",
        "from sklearn.preprocessing import StandardScaler\n",
        "from sklearn.model_selection import train_test_split\n",
        "from models import MultiOutputRegModel\n",
        "from custom_callbacks import CustomCallback\n",
        "from keras.callbacks import ModelCheckpoint, CSVLogger, EarlyStopping\n",
        "from keras.losses import MeanSquaredError\n",
        "from tensorflow.keras.optimizers import Adam\n",
        "from keras.layers import Input, Conv2D, MaxPooling2D, Dense, BatchNormalization, Flatten, Dropout\n",
        "from keras.models import Model\n",
        "import seaborn as sns\n",
        "import matplotlib.pyplot as plt"
      ],
      "metadata": {
        "id": "mpIFDpaF1FpS",
        "colab": {
          "base_uri": "https://localhost:8080/"
        },
        "outputId": "c2dff984-43f0-4e42-d5ba-275e76f1c555"
      },
      "id": "mpIFDpaF1FpS",
      "execution_count": null,
      "outputs": [
        {
          "output_type": "stream",
          "name": "stdout",
          "text": [
            "Num GPUs Available:  1\n"
          ]
        }
      ]
    },
    {
      "cell_type": "code",
      "execution_count": null,
      "id": "6be9e351",
      "metadata": {
        "id": "6be9e351"
      },
      "outputs": [],
      "source": [
        "class DataGenerator:\n",
        "    \n",
        "    def __init__(self, nsamples, drop_cols = None):\n",
        "        self.n = nsamples\n",
        "        df1 = pd.read_csv(CLUSTERS_FILE)\n",
        "        df2 = pd.read_csv(LABELS_FILE)\n",
        "        \n",
        "        self.X = df1.values\n",
        "        n = self.X.shape[0]\n",
        "        self.X = np.reshape(self.X, (n,13,21,1))\n",
        "        \n",
        "        if drop_cols != None:\n",
        "            df2.drop(drop_cols, axis=1, inplace=True)\n",
        "            \n",
        "        print(df2.head())\n",
        "        self.y = df2\n",
        "\n",
        "        # scale all outputs to homogenize output\n",
        "\n",
        "        self.y['x-entry'] = self.y['x-entry']/1000.\n",
        "        self.y['y-entry'] = self.y['y-entry']/100.\n",
        "        # self.y['cotAlpha'] = self.y['cotAlpha']/10.\n",
        "\n",
        "        print(self.y.head())\n",
        "     \n",
        "    def get_train_test_split(self, test_size = 0.2, seed = 0):\n",
        "        X_train, X_test, y_train, y_test = train_test_split(self.X,\n",
        "                                                            self.y,\n",
        "                                                            test_size = test_size, \n",
        "                                                            random_state = seed)\n",
        "        print(self.X.shape, self.y.shape)\n",
        "        print(X_train.shape, X_test.shape, y_train.shape, y_test.shape)\n",
        "\n",
        "        #scale input data\n",
        "        scaler = StandardScaler()\n",
        "        X_train = scaler.fit_transform(X_train.reshape(-1, X_train.shape[-1])).reshape(X_train.shape)\n",
        "        X_test = scaler.transform(X_test.reshape(-1, X_test.shape[-1])).reshape(X_test.shape)\n",
        "\n",
        "        x_entry_train, x_entry_test = np.array(y_train['x-entry']),np.array(y_test['x-entry'])\n",
        "        y_entry_train, y_entry_test = np.array(y_train['y-entry']),np.array(y_test['y-entry'])\n",
        "        cotAlpha_train, cotAlpha_test = np.array(y_train['cotAlpha']),np.array(y_test['cotAlpha'])\n",
        "        cotBeta_train, cotBeta_test = np.array(y_train['cotBeta']),np.array(y_test['cotBeta'])\n",
        "        \n",
        "        trainY = (x_entry_train, y_entry_train, cotAlpha_train, cotBeta_train)\n",
        "        testY = (x_entry_test, y_entry_test, cotAlpha_test, cotBeta_test)\n",
        "\n",
        "        # trainY = (np.column_stack([x_entry_train, y_entry_train]), np.column_stack([cotAlpha_train, cotBeta_train]))\n",
        "        # testY = (np.column_stack([x_entry_test, y_entry_test]), np.column_stack([cotAlpha_test, cotBeta_test]))\n",
        "\n",
        "        return X_train, X_test, trainY, testY"
      ]
    },
    {
      "cell_type": "code",
      "execution_count": null,
      "id": "a4b909a5",
      "metadata": {
        "id": "a4b909a5",
        "colab": {
          "base_uri": "https://localhost:8080/"
        },
        "outputId": "6bf94864-f2c3-4151-b895-42dd8dfae142"
      },
      "outputs": [
        {
          "output_type": "stream",
          "name": "stdout",
          "text": [
            "      x-entry    y-entry  cotAlpha   cotBeta\n",
            "0 -168.364151  -2.262124  3.696619  0.098554\n",
            "1 -127.467667  15.197241  2.341443 -0.206051\n",
            "2 -369.492645  -0.128008  7.428552 -0.017690\n",
            "3 -365.951111  -4.567823  7.807505  0.044182\n",
            "4 -200.628601  14.304100  3.911512 -0.191527\n",
            "    x-entry   y-entry  cotAlpha   cotBeta\n",
            "0 -0.168364 -0.022621  3.696619  0.098554\n",
            "1 -0.127468  0.151972  2.341443 -0.206051\n",
            "2 -0.369493 -0.001280  7.428552 -0.017690\n",
            "3 -0.365951 -0.045678  7.807505  0.044182\n",
            "4 -0.200629  0.143041  3.911512 -0.191527\n",
            "(650000, 13, 21, 1) (650000, 4)\n",
            "(520000, 13, 21, 1) (130000, 13, 21, 1) (520000, 4) (130000, 4)\n"
          ]
        }
      ],
      "source": [
        "datagen = DataGenerator(nsamples= NEVENTS, \n",
        "                        drop_cols = ['n_x','n_y','n_z','number_eh_pairs','z-entry'])\n",
        "X_train, X_test, trainY, testY = datagen.get_train_test_split(test_size = 0.20,  seed = 0)"
      ]
    },
    {
      "cell_type": "code",
      "source": [
        "# class BranchedRegModel1:\n",
        "\n",
        "#     def build_default_hidden_layers(self, inputs):\n",
        "#         x = Conv2D ( filters = 8 , kernel_size = (3 , 3) , strides = (1 , 1) ,\n",
        "#                          activation = \"relu\" , name = \"conv_1\" ) ( inputs )\n",
        "#         x = Conv2D ( filters = 16 , kernel_size = (3 , 3) , strides = (1 , 1) ,\n",
        "#                          activation = \"relu\" , name = \"conv_2\" ) ( x )\n",
        "#         x = MaxPooling2D ( (2 , 2) , name = \"maxpool_1\" ) ( x )\n",
        "#         x = Conv2D ( filters = 32 , kernel_size = (3 , 3) , strides = (1 , 1) ,\n",
        "#                          activation = \"relu\" , name = \"conv_3\" ) ( x )\n",
        "#         x = MaxPooling2D ( (2 , 2) , name = \"maxpool_2\" ) ( x )\n",
        "\n",
        "#         return x\n",
        "\n",
        "#     def build_coords_branch(self,inputs):\n",
        "\n",
        "#         x = Flatten()(inputs)\n",
        "#         x = Dense(64, activation = \"relu\")(x)\n",
        "#         x = BatchNormalization ( ) ( x )\n",
        "#         x = Dense(32, activation = \"relu\")(x)\n",
        "#         x = BatchNormalization ( ) ( x )\n",
        "#         x = Dropout ( 0.1 ) ( x )\n",
        "#         x = Dense ( 2, activation = \"linear\", name = \"coords_output\" ) ( x )\n",
        "#         return x\n",
        "\n",
        "#     def build_angles_branch(self,inputs):\n",
        "#         x = Flatten()(inputs)\n",
        "#         x = Dense ( 32 , activation =  \"relu\") ( x )\n",
        "#         x = BatchNormalization ( ) ( x )\n",
        "#         x = Dropout ( 0.1 ) ( x )\n",
        "#         x = Dense ( 1, activation = \"linear\", name = \"angles_output\" ) ( x )\n",
        "#         return x\n",
        "\n",
        "#     def assemble_full_model(self,inputs_shape):\n",
        "#         inputs = Input ( shape = inputs_shape )\n",
        "#         common_branch_inputs = self.build_default_hidden_layers ( inputs )\n",
        "#         coords_output = self.build_coords_branch(common_branch_inputs)\n",
        "#         angles_output = self.build_angles_branch(common_branch_inputs)\n",
        "#         # output = concatenate ( [x_output, y_output,alpha_output ,beta_output] , name = \"total_output\")\n",
        "#         model = Model ( inputs = inputs ,\n",
        "#                         outputs = [coords_output, angles_output],\n",
        "#                         name = \"model_1\" )\n",
        "#         model.summary()\n",
        "#         return model"
      ],
      "metadata": {
        "id": "85ERoIfVQFvP"
      },
      "id": "85ERoIfVQFvP",
      "execution_count": null,
      "outputs": []
    },
    {
      "cell_type": "code",
      "source": [
        "class BranchedRegModel2:\n",
        "\n",
        "    def build_default_hidden_layers(self, inputs):\n",
        "        x = Conv2D ( filters = 8 , kernel_size = (3 , 3) , strides = (1 , 1) ,\n",
        "                         activation = \"relu\" , name = \"conv_1\" ) ( inputs )\n",
        "        x = Conv2D ( filters = 16 , kernel_size = (3 , 3) , strides = (1 , 1) ,\n",
        "                         activation = \"relu\" , name = \"conv_2\" ) ( x )\n",
        "        x = MaxPooling2D ( (2 , 2) , name = \"maxpool_1\" ) ( x )\n",
        "        x = Conv2D ( filters = 32 , kernel_size = (3 , 3) , strides = (1 , 1) ,\n",
        "                         activation = \"relu\" , name = \"conv_3\" ) ( x )\n",
        "        x = MaxPooling2D ( (2 , 2) , name = \"maxpool_2\" ) ( x )\n",
        "\n",
        "        return x\n",
        "\n",
        "    def build_x_branch(self,inputs):\n",
        "\n",
        "        x = Flatten()(inputs)\n",
        "        x = Dense(64, activation = \"relu\")(x)\n",
        "        x = BatchNormalization ( ) ( x )\n",
        "        x = Dense(32, activation = \"relu\")(x)\n",
        "        x = BatchNormalization ( ) ( x )\n",
        "        x = Dropout ( 0.2 ) ( x )\n",
        "        x = Dense ( 1, activation = \"linear\", name = \"x_output\" ) ( x )\n",
        "        return x\n",
        "\n",
        "    def build_y_branch(self,inputs):\n",
        "\n",
        "        x = Flatten()(inputs)\n",
        "        x = Dense(16, activation = \"relu\")(x)\n",
        "        x = BatchNormalization ( ) ( x )\n",
        "        x = Dense(8, activation = \"relu\")(x)\n",
        "        x = BatchNormalization ( ) ( x )\n",
        "        x = Dropout ( 0.05 ) ( x )\n",
        "        x = Dense ( 1, activation = \"linear\", name = \"y_output\" ) ( x )\n",
        "        return x\n",
        "\n",
        "    def build_cotAlpha_branch(self,inputs):\n",
        "        x = Flatten()(inputs)\n",
        "        x = Dense ( 32 , activation =  \"relu\") ( x )\n",
        "        x = BatchNormalization ( ) ( x )\n",
        "        x = Dropout ( 0.1 ) ( x )\n",
        "        x = Dense ( 1, activation = \"linear\", name = \"alpha_output\" ) ( x )\n",
        "        return x\n",
        "\n",
        "    def build_cotBeta_branch(self,inputs):\n",
        "        x = Flatten()(inputs)\n",
        "        x = Dense ( 16 , activation =  \"relu\") ( x )\n",
        "        x = BatchNormalization ( ) ( x )\n",
        "        x = Dropout ( 0.05 ) ( x )\n",
        "        x = Dense ( 1, activation = \"linear\", name = \"beta_output\" ) ( x )\n",
        "        return x\n",
        "\n",
        "    def assemble_full_model(self,inputs_shape):\n",
        "        inputs = Input ( shape = inputs_shape )\n",
        "        common_branch_inputs = self.build_default_hidden_layers ( inputs )\n",
        "        x_output = self.build_x_branch(common_branch_inputs)\n",
        "        y_output = self.build_y_branch(common_branch_inputs)\n",
        "        alpha_output = self.build_cotAlpha_branch(common_branch_inputs)\n",
        "        beta_output = self.build_cotBeta_branch(common_branch_inputs)\n",
        "        # output = concatenate ( [x_output, y_output,alpha_output ,beta_output] , name = \"total_output\")\n",
        "        model = Model ( inputs = inputs ,\n",
        "                        outputs = [x_output, y_output,alpha_output,beta_output],\n",
        "                        name = \"model_2\" )\n",
        "        model.summary()\n",
        "        return model"
      ],
      "metadata": {
        "id": "iyk0-r6tQ746"
      },
      "id": "iyk0-r6tQ746",
      "execution_count": null,
      "outputs": []
    },
    {
      "cell_type": "code",
      "execution_count": null,
      "id": "9059e312",
      "metadata": {
        "scrolled": true,
        "id": "9059e312"
      },
      "outputs": [],
      "source": [
        "model = BranchedRegModel2().assemble_full_model(inputs_shape=(13,21,1))\n",
        "\n",
        "checkpoint_path = \"./models/multi_output_model_cp.ckpt\"\n",
        "\n",
        "# Create a callback that saves the model's weights \n",
        "# currently, model weights are saved for each training\n",
        "# to do - update for early stopping\n",
        "cp_callback = ModelCheckpoint(filepath=checkpoint_path,\n",
        "                              save_weights_only=True,\n",
        "                              verbose=1,\n",
        "                              save_best_only = True)\n",
        "\n",
        "csv_logger = CSVLogger('log.csv', append=True, separator=';')\n",
        "es = EarlyStopping(monitor = \"val_loss\",patience=10, min_delta = 1e-5,mode=\"min\")\n",
        "batch_size = 64\n",
        "init_lr = 0.05\n",
        "epochs = 50\n",
        "opt = Adam(lr=init_lr, decay=init_lr / epochs)\n",
        "\n",
        "model.compile(loss = {'x_output': 'mse',\n",
        "                      'y_output': 'mse',\n",
        "                      'alpha_output': 'mse',\n",
        "                      'beta_output': 'mse'},\n",
        "              optimizer=opt,  \n",
        "              metrics= {'x_output': MeanSquaredError(),\n",
        "                      'y_output': MeanSquaredError(),\n",
        "                      'alpha_output': MeanSquaredError(),\n",
        "                      'beta_output': MeanSquaredError()},\n",
        "              # loss_weights= {'x_output': 1. ,\n",
        "              #               'y_output': 0.5,\n",
        "              #               'alpha_output': 1. ,\n",
        "              #               'beta_output': 0.5}       \n",
        "             )\n",
        "\n",
        "history = model.fit(\n",
        "          X_train, trainY,\n",
        "          batch_size=batch_size,\n",
        "          epochs=epochs,\n",
        "          verbose=1,\n",
        "          validation_data=(X_test, testY),\n",
        "          callbacks=[cp_callback, csv_logger, es],\n",
        "          )"
      ]
    },
    {
      "cell_type": "code",
      "execution_count": null,
      "id": "cfb127e5",
      "metadata": {
        "id": "cfb127e5",
        "colab": {
          "base_uri": "https://localhost:8080/"
        },
        "outputId": "6854a709-0529-4fd5-bc63-0fcf3c6e0055"
      },
      "outputs": [
        {
          "output_type": "stream",
          "name": "stdout",
          "text": [
            "2032/2032 [==============================] - 7s 4ms/step - loss: 0.0120 - x_output_loss: 4.4089e-05 - y_output_loss: 2.0860e-04 - alpha_output_loss: 0.0110 - beta_output_loss: 7.9664e-04 - x_output_mean_squared_error: 4.4083e-05 - y_output_mean_squared_error: 2.0859e-04 - alpha_output_mean_squared_error: 0.0110 - beta_output_mean_squared_error: 7.9702e-04\n",
            "Start predicting; got log keys: []\n",
            "Stop predicting; got log keys: []\n",
            "4\n"
          ]
        }
      ],
      "source": [
        "res = model.evaluate(\n",
        "    X_test, testY, batch_size=batch_size,\n",
        ")\n",
        "\n",
        "predictions = model.predict(X_test, batch_size=batch_size, callbacks=[CustomCallback()])\n",
        "print(len(predictions))\n",
        "preds = np.concatenate(predictions,axis = 1)\n",
        "truths = np.column_stack(testY)\n",
        "df_predict = pd.DataFrame(preds, columns=['x-entry', 'y-entry', 'cotAlpha', 'cotBeta'])\n",
        "trueLabels = pd.DataFrame(truths, columns=['x-entry', 'y-entry', 'cotAlpha', 'cotBeta'])"
      ]
    },
    {
      "cell_type": "code",
      "source": [
        "# rescale\n",
        "df_predict['x-entry'] = 1000.* df_predict['x-entry']\n",
        "trueLabels['x-entry'] = 1000.* trueLabels['x-entry']\n",
        "\n",
        "df_predict['y-entry'] = 100.* df_predict['y-entry']\n",
        "trueLabels['y-entry'] = 100.* trueLabels['y-entry']"
      ],
      "metadata": {
        "id": "-0V1mQI-Jk_Q"
      },
      "id": "-0V1mQI-Jk_Q",
      "execution_count": null,
      "outputs": []
    },
    {
      "cell_type": "code",
      "execution_count": null,
      "id": "4e5f6f6c",
      "metadata": {
        "id": "4e5f6f6c"
      },
      "outputs": [],
      "source": [
        "def calc_residuals(y, y_pred):\n",
        "    res = y - y_pred\n",
        "    return np.mean(res), np.std(res)\n",
        "\n",
        "res = []\n",
        "for col in df_predict.columns:\n",
        "    mean,sd = calc_residuals(trueLabels[col],df_predict[col])\n",
        "    res.append([col, mean, sd])"
      ]
    },
    {
      "cell_type": "code",
      "execution_count": null,
      "id": "43545250",
      "metadata": {
        "id": "43545250",
        "colab": {
          "base_uri": "https://localhost:8080/",
          "height": 175
        },
        "outputId": "aac4b144-fa2f-4638-84e1-1ff296d658c4"
      },
      "outputs": [
        {
          "output_type": "execute_result",
          "data": {
            "text/html": [
              "\n",
              "  <div id=\"df-67144e34-3403-4c0b-aa1c-7d4eff73a714\">\n",
              "    <div class=\"colab-df-container\">\n",
              "      <div>\n",
              "<style scoped>\n",
              "    .dataframe tbody tr th:only-of-type {\n",
              "        vertical-align: middle;\n",
              "    }\n",
              "\n",
              "    .dataframe tbody tr th {\n",
              "        vertical-align: top;\n",
              "    }\n",
              "\n",
              "    .dataframe thead th {\n",
              "        text-align: right;\n",
              "    }\n",
              "</style>\n",
              "<table border=\"1\" class=\"dataframe\">\n",
              "  <thead>\n",
              "    <tr style=\"text-align: right;\">\n",
              "      <th></th>\n",
              "      <th>variable</th>\n",
              "      <th>mean</th>\n",
              "      <th>std</th>\n",
              "    </tr>\n",
              "  </thead>\n",
              "  <tbody>\n",
              "    <tr>\n",
              "      <th>0</th>\n",
              "      <td>x-entry</td>\n",
              "      <td>-0.941694</td>\n",
              "      <td>7.413845</td>\n",
              "    </tr>\n",
              "    <tr>\n",
              "      <th>1</th>\n",
              "      <td>y-entry</td>\n",
              "      <td>0.084184</td>\n",
              "      <td>1.413741</td>\n",
              "    </tr>\n",
              "    <tr>\n",
              "      <th>2</th>\n",
              "      <td>cotAlpha</td>\n",
              "      <td>0.057075</td>\n",
              "      <td>0.117815</td>\n",
              "    </tr>\n",
              "    <tr>\n",
              "      <th>3</th>\n",
              "      <td>cotBeta</td>\n",
              "      <td>-0.000211</td>\n",
              "      <td>0.025784</td>\n",
              "    </tr>\n",
              "  </tbody>\n",
              "</table>\n",
              "</div>\n",
              "      <button class=\"colab-df-convert\" onclick=\"convertToInteractive('df-67144e34-3403-4c0b-aa1c-7d4eff73a714')\"\n",
              "              title=\"Convert this dataframe to an interactive table.\"\n",
              "              style=\"display:none;\">\n",
              "        \n",
              "  <svg xmlns=\"http://www.w3.org/2000/svg\" height=\"24px\"viewBox=\"0 0 24 24\"\n",
              "       width=\"24px\">\n",
              "    <path d=\"M0 0h24v24H0V0z\" fill=\"none\"/>\n",
              "    <path d=\"M18.56 5.44l.94 2.06.94-2.06 2.06-.94-2.06-.94-.94-2.06-.94 2.06-2.06.94zm-11 1L8.5 8.5l.94-2.06 2.06-.94-2.06-.94L8.5 2.5l-.94 2.06-2.06.94zm10 10l.94 2.06.94-2.06 2.06-.94-2.06-.94-.94-2.06-.94 2.06-2.06.94z\"/><path d=\"M17.41 7.96l-1.37-1.37c-.4-.4-.92-.59-1.43-.59-.52 0-1.04.2-1.43.59L10.3 9.45l-7.72 7.72c-.78.78-.78 2.05 0 2.83L4 21.41c.39.39.9.59 1.41.59.51 0 1.02-.2 1.41-.59l7.78-7.78 2.81-2.81c.8-.78.8-2.07 0-2.86zM5.41 20L4 18.59l7.72-7.72 1.47 1.35L5.41 20z\"/>\n",
              "  </svg>\n",
              "      </button>\n",
              "      \n",
              "  <style>\n",
              "    .colab-df-container {\n",
              "      display:flex;\n",
              "      flex-wrap:wrap;\n",
              "      gap: 12px;\n",
              "    }\n",
              "\n",
              "    .colab-df-convert {\n",
              "      background-color: #E8F0FE;\n",
              "      border: none;\n",
              "      border-radius: 50%;\n",
              "      cursor: pointer;\n",
              "      display: none;\n",
              "      fill: #1967D2;\n",
              "      height: 32px;\n",
              "      padding: 0 0 0 0;\n",
              "      width: 32px;\n",
              "    }\n",
              "\n",
              "    .colab-df-convert:hover {\n",
              "      background-color: #E2EBFA;\n",
              "      box-shadow: 0px 1px 2px rgba(60, 64, 67, 0.3), 0px 1px 3px 1px rgba(60, 64, 67, 0.15);\n",
              "      fill: #174EA6;\n",
              "    }\n",
              "\n",
              "    [theme=dark] .colab-df-convert {\n",
              "      background-color: #3B4455;\n",
              "      fill: #D2E3FC;\n",
              "    }\n",
              "\n",
              "    [theme=dark] .colab-df-convert:hover {\n",
              "      background-color: #434B5C;\n",
              "      box-shadow: 0px 1px 3px 1px rgba(0, 0, 0, 0.15);\n",
              "      filter: drop-shadow(0px 1px 2px rgba(0, 0, 0, 0.3));\n",
              "      fill: #FFFFFF;\n",
              "    }\n",
              "  </style>\n",
              "\n",
              "      <script>\n",
              "        const buttonEl =\n",
              "          document.querySelector('#df-67144e34-3403-4c0b-aa1c-7d4eff73a714 button.colab-df-convert');\n",
              "        buttonEl.style.display =\n",
              "          google.colab.kernel.accessAllowed ? 'block' : 'none';\n",
              "\n",
              "        async function convertToInteractive(key) {\n",
              "          const element = document.querySelector('#df-67144e34-3403-4c0b-aa1c-7d4eff73a714');\n",
              "          const dataTable =\n",
              "            await google.colab.kernel.invokeFunction('convertToInteractive',\n",
              "                                                     [key], {});\n",
              "          if (!dataTable) return;\n",
              "\n",
              "          const docLinkHtml = 'Like what you see? Visit the ' +\n",
              "            '<a target=\"_blank\" href=https://colab.research.google.com/notebooks/data_table.ipynb>data table notebook</a>'\n",
              "            + ' to learn more about interactive tables.';\n",
              "          element.innerHTML = '';\n",
              "          dataTable['output_type'] = 'display_data';\n",
              "          await google.colab.output.renderOutput(dataTable, element);\n",
              "          const docLink = document.createElement('div');\n",
              "          docLink.innerHTML = docLinkHtml;\n",
              "          element.appendChild(docLink);\n",
              "        }\n",
              "      </script>\n",
              "    </div>\n",
              "  </div>\n",
              "  "
            ],
            "text/plain": [
              "   variable      mean       std\n",
              "0   x-entry -0.941694  7.413845\n",
              "1   y-entry  0.084184  1.413741\n",
              "2  cotAlpha  0.057075  0.117815\n",
              "3   cotBeta -0.000211  0.025784"
            ]
          },
          "metadata": {},
          "execution_count": 75
        }
      ],
      "source": [
        "pd.DataFrame(res, columns = [\"variable\",\"mean\", \"std\"], index = None)"
      ]
    },
    {
      "cell_type": "code",
      "source": [
        "plt.rcParams['font.family'] = [u'serif']\n",
        "plt.rcParams['legend.title_fontsize'] = 'xx-small'\n",
        "fig = plt.figure(figsize = (5,5), dpi = 75)\n",
        "plt.plot(history.history['loss'], label='train_loss', color = \"black\")\n",
        "plt.plot(history.history['val_loss'], label = 'val_loss', color = \"red\")\n",
        "plt.xlabel('Epoch')\n",
        "plt.ylabel('Loss')\n",
        "plt.legend(loc='upper right')\n",
        "plt.minorticks_on()\n",
        "plt.grid(which='major', linestyle='-', linewidth='0.25', alpha=0.5,color='black')\n",
        "plt.grid(which='minor', linestyle=':', linewidth='0.25', alpha=0.5,color='black')\n",
        "plt.title(\"loss curve\")\n",
        "plt.show()"
      ],
      "metadata": {
        "id": "_vtLb1eZeL07",
        "colab": {
          "base_uri": "https://localhost:8080/",
          "height": 360
        },
        "outputId": "6c387f73-90f8-4dc0-d5df-64c68de7423f"
      },
      "id": "_vtLb1eZeL07",
      "execution_count": null,
      "outputs": [
        {
          "output_type": "display_data",
          "data": {
            "image/png": "[encoded data removed]",
            "text/plain": [
              "<Figure size 375x375 with 1 Axes>"
            ]
          },
          "metadata": {
            "needs_background": "light"
          }
        }
      ]
    },
    {
      "cell_type": "code",
      "source": [
        "# def saving_model(model,\n",
        "#                  filepath:str ='',\n",
        "#                  model_filename:str ='model'):\n",
        "#     \"\"\"\n",
        "#     Helper function to save the trained pruned models in the following format:\n",
        "#         Config -> JSON file format\n",
        "#         Weights -> H5PY file format\n",
        "#     :param model: Keras Model object\n",
        "#     :param filepath: path to store the file in the directory\n",
        "#     :param model_filename: name for the model\n",
        "#     :return: None\n",
        "#     \"\"\" \n",
        "#     # serialize model to JSON\n",
        "#     model_json = model.to_json()\n",
        "#     with open(filepath + \"/\" + model_filename + \".json\", \"w\") as json_file:\n",
        "#         json_file.write(model_json)\n",
        "#     # serialize weights to HDF5\n",
        "#     model.save_weights(filepath + \"/\" + model_filename + \"_weights.h5\")\n",
        "#     print(\"Saved model to disk\")"
      ],
      "metadata": {
        "id": "L5touCrBIGKB"
      },
      "id": "L5touCrBIGKB",
      "execution_count": null,
      "outputs": []
    },
    {
      "cell_type": "code",
      "source": [
        "# saving_model(model, filepath = sys.path[-1] + \"/\" + \"models\", model_filename = \"BRM_02\")"
      ],
      "metadata": {
        "id": "t2j5mU91K9ow"
      },
      "id": "t2j5mU91K9ow",
      "execution_count": null,
      "outputs": []
    },
    {
      "cell_type": "code",
      "source": [
        "sns.scatterplot(x = trueLabels['cotBeta'], y = trueLabels['cotBeta'] - df_predict['cotBeta'])\n",
        "plt.show()"
      ],
      "metadata": {
        "id": "NS22vmwFngP9"
      },
      "id": "NS22vmwFngP9",
      "execution_count": null,
      "outputs": []
    },
    {
      "cell_type": "code",
      "source": [
        "from scipy.stats import pearsonr\n",
        "pearsonr(x = trueLabels['cotAlpha'], y =trueLabels['cotAlpha'] - df_predict['cotAlpha'])"
      ],
      "metadata": {
        "id": "LJ77AiA3TeSv"
      },
      "id": "LJ77AiA3TeSv",
      "execution_count": null,
      "outputs": []
    }
  ],
  "metadata": {
    "kernelspec": {
      "display_name": "Python 3 (ipykernel)",
      "language": "python",
      "name": "python3"
    },
    "language_info": {
      "codemirror_mode": {
        "name": "ipython",
        "version": 3
      },
      "file_extension": ".py",
      "mimetype": "text/x-python",
      "name": "python",
      "nbconvert_exporter": "python",
      "pygments_lexer": "ipython3",
      "version": "3.8.12"
    },
    "colab": {
      "name": "Branched Regression Model-2.0",
      "provenance": [],
      "collapsed_sections": [],
      "machine_shape": "hm"
    },
    "accelerator": "GPU"
  },
  "nbformat": 4,
  "nbformat_minor": 5
}