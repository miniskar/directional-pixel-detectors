{
  "cells": [
    {
      "cell_type": "code",
      "execution_count": 1,
      "metadata": {
        "id": "d2990b6a",
        "colab": {
          "base_uri": "https://localhost:8080/"
        },
        "outputId": "a209a663-ab2b-497d-d184-ea41f65800ac"
      },
      "outputs": [
        {
          "output_type": "stream",
          "name": "stdout",
          "text": [
            "Mounted at /content/drive\n"
          ]
        }
      ],
      "source": [
        "from google.colab import drive\n",
        "drive.mount('/content/drive', force_remount = True)\n",
        "# Set directory as default system path\n",
        "import sys\n",
        "sys.path.append('/content/drive/MyDrive/smart-pixels')"
      ],
      "id": "d2990b6a"
    },
    {
      "cell_type": "code",
      "execution_count": 26,
      "metadata": {
        "id": "mpIFDpaF1FpS",
        "colab": {
          "base_uri": "https://localhost:8080/"
        },
        "outputId": "ad372273-2d39-491d-bcdb-4949ce05f599"
      },
      "outputs": [
        {
          "output_type": "stream",
          "name": "stdout",
          "text": [
            "Num GPUs Available:  1\n"
          ]
        }
      ],
      "source": [
        "import tensorflow as tf\n",
        "print(\"Num GPUs Available: \", len(tf.config.list_physical_devices('GPU')))\n",
        "import keras\n",
        "import pandas as pd\n",
        "import numpy as np\n",
        "from sklearn.preprocessing import StandardScaler, MinMaxScaler\n",
        "from sklearn.model_selection import train_test_split\n",
        "from custom_callbacks import CustomCallback\n",
        "from keras.callbacks import ModelCheckpoint, CSVLogger, EarlyStopping\n",
        "from tensorflow.keras.optimizers import Adam\n",
        "from keras.layers import Input, Conv2D, MaxPooling2D, Dense, BatchNormalization, Flatten, Dropout, LeakyReLU\n",
        "from keras.models import Model\n",
        "import seaborn as sns\n",
        "import matplotlib.pyplot as plt"
      ],
      "id": "mpIFDpaF1FpS"
    },
    {
      "cell_type": "code",
      "source": [
        "data = pd.read_csv(sys.path[-1] + \"/data/resampled200K.csv\")"
      ],
      "metadata": {
        "id": "SftQPop5lGV_"
      },
      "id": "SftQPop5lGV_",
      "execution_count": 27,
      "outputs": []
    },
    {
      "cell_type": "code",
      "source": [
        "X, local_y, pT = data[data.columns[:273]].values.reshape(data.shape[0],13,21,1), data[\"local_y\"].values, data[\"pT\"].values\n",
        "print(X.shape, local_y.shape, pT.shape)"
      ],
      "metadata": {
        "id": "SXyHhcuGlUEZ",
        "colab": {
          "base_uri": "https://localhost:8080/"
        },
        "outputId": "f850bea9-f84b-4cfd-abc5-4c336b2409e4"
      },
      "id": "SXyHhcuGlUEZ",
      "execution_count": 28,
      "outputs": [
        {
          "output_type": "stream",
          "name": "stdout",
          "text": [
            "(200000, 13, 21, 1) (200000,) (200000,)\n"
          ]
        }
      ]
    },
    {
      "cell_type": "code",
      "source": [
        "X_train, X_test, Y_loc_train, Y_loc_test, pT_train, pT_test = train_test_split(\n",
        "    X,\n",
        "    local_y,\n",
        "    pT,\n",
        "    test_size = 0.15,\n",
        "    random_state = 0,\n",
        "    shuffle = True\n",
        ")\n",
        "\n",
        "scaler1 = StandardScaler()\n",
        "X_train = scaler1.fit_transform(X_train.reshape(-1, X_train.shape[0])).reshape(X_train.shape[0],13,21,1)\n",
        "X_test = scaler1.fit_transform(X_test.reshape(-1, X_test.shape[0])).reshape(X_test.shape[0],13,21,1)\n",
        "\n",
        "scaler2 = StandardScaler()\n",
        "Y_loc_train = scaler2.fit_transform(Y_loc_train.reshape(Y_loc_train.shape[0],1)).ravel()\n",
        "Y_loc_test = scaler2.fit_transform(Y_loc_test.reshape(Y_loc_test.shape[0],1)).ravel()"
      ],
      "metadata": {
        "id": "4f5R_SKB84Ls"
      },
      "id": "4f5R_SKB84Ls",
      "execution_count": 5,
      "outputs": []
    },
    {
      "cell_type": "code",
      "source": [
        "from keras.layers import concatenate\n",
        "from keras.regularizers import L2\n",
        "class ClassificationModel:\n",
        "\n",
        "    def build_image_branch(self,inputA):\n",
        "      regularizer = L2(l2 = 0.0005)\n",
        "      x = Conv2D(32, (3, 3), strides=(1, 1), kernel_initializer= 'he_normal',\n",
        "                 kernel_regularizer = regularizer, activation = 'relu')(inputA)\n",
        "      x = BatchNormalization()(x)\n",
        "      x = Conv2D(16, (3, 3), strides=(1, 1), kernel_initializer= 'he_normal', \n",
        "                  kernel_regularizer = regularizer, activation = 'relu')(x)\n",
        "      x = BatchNormalization()(x)\n",
        "      outputA = Flatten()(x)\n",
        "      return outputA\n",
        "    \n",
        "    def build_image_with_y_loc_branch(self,outputA, inputB):\n",
        "        merged_x = concatenate([outputA, inputB])\n",
        "        regularizer = L2(l2 = 0.0005)\n",
        "        x = Dense(16, kernel_initializer= 'he_normal', \n",
        "                  kernel_regularizer = regularizer, activation = 'relu')(merged_x)\n",
        "        x = BatchNormalization()(x)\n",
        "        x = Dense(8 , kernel_initializer= 'he_normal', \n",
        "                  kernel_regularizer = regularizer, activation = 'relu')(x)\n",
        "        x = BatchNormalization()(x)\n",
        "        x = Dense(1, activation= \"relu\", name = \"final_output\")(x)\n",
        "\n",
        "        return x\n",
        " \n",
        "    def assemble_model(self):\n",
        "        inputA, inputB = Input ( shape = (13,21,1) ), Input ( shape = (1,) )\n",
        "        outputA = self.build_image_branch(inputA)\n",
        "        final_output = self.build_image_with_y_loc_branch(outputA, inputB)\n",
        "        model = Model(inputs =[inputA, inputB], outputs=final_output, name = \"pT_model\")\n",
        "        print( model.summary() )\n",
        "        return model"
      ],
      "metadata": {
        "id": "GytXjwayqm1t"
      },
      "id": "GytXjwayqm1t",
      "execution_count": 33,
      "outputs": []
    },
    {
      "cell_type": "code",
      "execution_count": null,
      "metadata": {
        "id": "9059e312",
        "scrolled": true,
        "colab": {
          "base_uri": "https://localhost:8080/"
        },
        "outputId": "2037d0f5-14be-4924-f255-441944545237"
      },
      "outputs": [
        {
          "output_type": "stream",
          "name": "stdout",
          "text": [
            "Model: \"pT_model\"\n",
            "__________________________________________________________________________________________________\n",
            " Layer (type)                   Output Shape         Param #     Connected to                     \n",
            "==================================================================================================\n",
            " input_17 (InputLayer)          [(None, 13, 21, 1)]  0           []                               \n",
            "                                                                                                  \n",
            " conv2d_16 (Conv2D)             (None, 11, 19, 32)   320         ['input_17[0][0]']               \n",
            "                                                                                                  \n",
            " batch_normalization_32 (BatchN  (None, 11, 19, 32)  128         ['conv2d_16[0][0]']              \n",
            " ormalization)                                                                                    \n",
            "                                                                                                  \n",
            " conv2d_17 (Conv2D)             (None, 9, 17, 16)    4624        ['batch_normalization_32[0][0]'] \n",
            "                                                                                                  \n",
            " batch_normalization_33 (BatchN  (None, 9, 17, 16)   64          ['conv2d_17[0][0]']              \n",
            " ormalization)                                                                                    \n",
            "                                                                                                  \n",
            " flatten_8 (Flatten)            (None, 2448)         0           ['batch_normalization_33[0][0]'] \n",
            "                                                                                                  \n",
            " input_18 (InputLayer)          [(None, 1)]          0           []                               \n",
            "                                                                                                  \n",
            " concatenate_8 (Concatenate)    (None, 2449)         0           ['flatten_8[0][0]',              \n",
            "                                                                  'input_18[0][0]']               \n",
            "                                                                                                  \n",
            " dense_16 (Dense)               (None, 16)           39200       ['concatenate_8[0][0]']          \n",
            "                                                                                                  \n",
            " batch_normalization_34 (BatchN  (None, 16)          64          ['dense_16[0][0]']               \n",
            " ormalization)                                                                                    \n",
            "                                                                                                  \n",
            " dense_17 (Dense)               (None, 8)            136         ['batch_normalization_34[0][0]'] \n",
            "                                                                                                  \n",
            " batch_normalization_35 (BatchN  (None, 8)           32          ['dense_17[0][0]']               \n",
            " ormalization)                                                                                    \n",
            "                                                                                                  \n",
            " final_output (Dense)           (None, 1)            9           ['batch_normalization_35[0][0]'] \n",
            "                                                                                                  \n",
            "==================================================================================================\n",
            "Total params: 44,577\n",
            "Trainable params: 44,433\n",
            "Non-trainable params: 144\n",
            "__________________________________________________________________________________________________\n",
            "None\n"
          ]
        },
        {
          "output_type": "stream",
          "name": "stderr",
          "text": [
            "/usr/local/lib/python3.7/dist-packages/keras/optimizer_v2/adam.py:105: UserWarning: The `lr` argument is deprecated, use `learning_rate` instead.\n",
            "  super(Adam, self).__init__(name, **kwargs)\n"
          ]
        },
        {
          "output_type": "stream",
          "name": "stdout",
          "text": [
            "Epoch 1/200\n",
            "2657/2657 [==============================] - 14s 5ms/step - loss: 3.9253 - accuracy: 0.5006 - val_loss: 2.8915 - val_accuracy: 0.5057\n",
            "Epoch 2/200\n",
            "2657/2657 [==============================] - 12s 5ms/step - loss: 2.6113 - accuracy: 0.4990 - val_loss: 2.1618 - val_accuracy: 0.5004\n",
            "Epoch 3/200\n",
            "2657/2657 [==============================] - 12s 5ms/step - loss: 2.0608 - accuracy: 0.4992 - val_loss: 1.6580 - val_accuracy: 0.4960\n",
            "Epoch 4/200\n",
            "2657/2657 [==============================] - 12s 5ms/step - loss: 1.6976 - accuracy: 0.4983 - val_loss: 1.4115 - val_accuracy: 0.4951\n",
            "Epoch 5/200\n",
            "2657/2657 [==============================] - 12s 5ms/step - loss: 1.4495 - accuracy: 0.4979 - val_loss: 1.3163 - val_accuracy: 0.4976\n",
            "Epoch 6/200\n",
            "2657/2657 [==============================] - 12s 5ms/step - loss: 1.3323 - accuracy: 0.5010 - val_loss: 1.1621 - val_accuracy: 0.4981\n",
            "Epoch 7/200\n",
            "2657/2657 [==============================] - 12s 5ms/step - loss: 1.2849 - accuracy: 0.4997 - val_loss: 1.1260 - val_accuracy: 0.4915\n",
            "Epoch 8/200\n",
            "2657/2657 [==============================] - 12s 5ms/step - loss: 1.2638 - accuracy: 0.5007 - val_loss: 1.1650 - val_accuracy: 0.4978\n",
            "Epoch 9/200\n",
            "2657/2657 [==============================] - 12s 5ms/step - loss: 1.2498 - accuracy: 0.5016 - val_loss: 1.1535 - val_accuracy: 0.5040\n",
            "Epoch 10/200\n",
            "2657/2657 [==============================] - 12s 5ms/step - loss: 1.2006 - accuracy: 0.5026 - val_loss: 1.1107 - val_accuracy: 0.5037\n",
            "Epoch 11/200\n",
            "2657/2657 [==============================] - 12s 5ms/step - loss: 1.1580 - accuracy: 0.5028 - val_loss: 1.0978 - val_accuracy: 0.5053\n",
            "Epoch 12/200\n",
            "2657/2657 [==============================] - 12s 5ms/step - loss: 1.1503 - accuracy: 0.5027 - val_loss: 1.0253 - val_accuracy: 0.5022\n",
            "Epoch 13/200\n",
            "2657/2657 [==============================] - 12s 5ms/step - loss: 1.1116 - accuracy: 0.5003 - val_loss: 1.0210 - val_accuracy: 0.5020\n",
            "Epoch 14/200\n",
            "2657/2657 [==============================] - 12s 5ms/step - loss: 1.1135 - accuracy: 0.5016 - val_loss: 1.0183 - val_accuracy: 0.5023\n",
            "Epoch 15/200\n",
            "2657/2657 [==============================] - 12s 5ms/step - loss: 1.0860 - accuracy: 0.4995 - val_loss: 0.9877 - val_accuracy: 0.4952\n",
            "Epoch 16/200\n",
            "2657/2657 [==============================] - 12s 5ms/step - loss: 1.0533 - accuracy: 0.5024 - val_loss: 0.9146 - val_accuracy: 0.5015\n",
            "Epoch 17/200\n",
            "2657/2657 [==============================] - 12s 5ms/step - loss: 1.0152 - accuracy: 0.5026 - val_loss: 0.9368 - val_accuracy: 0.5026\n",
            "Epoch 18/200\n",
            "2657/2657 [==============================] - 12s 5ms/step - loss: 0.9694 - accuracy: 0.5042 - val_loss: 0.8454 - val_accuracy: 0.5089\n",
            "Epoch 19/200\n",
            "2657/2657 [==============================] - 12s 5ms/step - loss: 0.9351 - accuracy: 0.5053 - val_loss: 0.8455 - val_accuracy: 0.5077\n",
            "Epoch 20/200\n",
            "2657/2657 [==============================] - 12s 5ms/step - loss: 0.8733 - accuracy: 0.5043 - val_loss: 0.8365 - val_accuracy: 0.5127\n",
            "Epoch 21/200\n",
            "2657/2657 [==============================] - 12s 5ms/step - loss: 0.8363 - accuracy: 0.5062 - val_loss: 0.8903 - val_accuracy: 0.5083\n",
            "Epoch 22/200\n",
            "2657/2657 [==============================] - 12s 5ms/step - loss: 0.8100 - accuracy: 0.5031 - val_loss: 0.7752 - val_accuracy: 0.5123\n",
            "Epoch 23/200\n",
            "2657/2657 [==============================] - 12s 5ms/step - loss: 0.7724 - accuracy: 0.5087 - val_loss: 0.7655 - val_accuracy: 0.5105\n",
            "Epoch 24/200\n",
            "2657/2657 [==============================] - 12s 5ms/step - loss: 0.7640 - accuracy: 0.5095 - val_loss: 0.7577 - val_accuracy: 0.5146\n",
            "Epoch 25/200\n",
            "2657/2657 [==============================] - 12s 5ms/step - loss: 0.7567 - accuracy: 0.5095 - val_loss: 0.7552 - val_accuracy: 0.5076\n",
            "Epoch 26/200\n",
            "2657/2657 [==============================] - 12s 5ms/step - loss: 0.7516 - accuracy: 0.5128 - val_loss: 1.5609 - val_accuracy: 0.5039\n",
            "Epoch 27/200\n",
            "2657/2657 [==============================] - 12s 5ms/step - loss: 0.7454 - accuracy: 0.5112 - val_loss: 0.7419 - val_accuracy: 0.5169\n",
            "Epoch 28/200\n",
            "2657/2657 [==============================] - 12s 5ms/step - loss: 0.7383 - accuracy: 0.5142 - val_loss: 0.7359 - val_accuracy: 0.5150\n",
            "Epoch 29/200\n",
            "2657/2657 [==============================] - 13s 5ms/step - loss: 0.7352 - accuracy: 0.5141 - val_loss: 0.7320 - val_accuracy: 0.5143\n",
            "Epoch 30/200\n",
            "2657/2657 [==============================] - 12s 5ms/step - loss: 0.7306 - accuracy: 0.5143 - val_loss: 0.7280 - val_accuracy: 0.5121\n",
            "Epoch 31/200\n",
            "2657/2657 [==============================] - 12s 5ms/step - loss: 0.7506 - accuracy: 0.5129 - val_loss: 0.7374 - val_accuracy: 0.5101\n",
            "Epoch 32/200\n",
            "2657/2657 [==============================] - 12s 5ms/step - loss: 0.7660 - accuracy: 0.5114 - val_loss: 0.7845 - val_accuracy: 0.5147\n",
            "Epoch 33/200\n",
            "2657/2657 [==============================] - 12s 5ms/step - loss: 0.7653 - accuracy: 0.5074 - val_loss: 0.8250 - val_accuracy: 0.5139\n",
            "Epoch 34/200\n",
            "2657/2657 [==============================] - 12s 5ms/step - loss: 0.7469 - accuracy: 0.5126 - val_loss: 0.7336 - val_accuracy: 0.5147\n",
            "Epoch 35/200\n",
            "2657/2657 [==============================] - 12s 5ms/step - loss: 0.7294 - accuracy: 0.5176 - val_loss: 0.7387 - val_accuracy: 0.5150\n",
            "Epoch 36/200\n",
            "2657/2657 [==============================] - 12s 5ms/step - loss: 0.7287 - accuracy: 0.5167 - val_loss: 0.7383 - val_accuracy: 0.5173\n",
            "Epoch 37/200\n",
            "2657/2657 [==============================] - 12s 5ms/step - loss: 0.7388 - accuracy: 0.5170 - val_loss: 0.7220 - val_accuracy: 0.5166\n",
            "Epoch 38/200\n",
            "2657/2657 [==============================] - 12s 5ms/step - loss: 0.7192 - accuracy: 0.5203 - val_loss: 0.7201 - val_accuracy: 0.5155\n",
            "Epoch 39/200\n",
            "2657/2657 [==============================] - 12s 5ms/step - loss: 0.7263 - accuracy: 0.5197 - val_loss: 0.7211 - val_accuracy: 0.5141\n",
            "Epoch 40/200\n",
            "2657/2657 [==============================] - 12s 5ms/step - loss: 0.7162 - accuracy: 0.5194 - val_loss: 0.7166 - val_accuracy: 0.5137\n",
            "Epoch 41/200\n",
            "2657/2657 [==============================] - 12s 5ms/step - loss: 0.7259 - accuracy: 0.5183 - val_loss: 0.7210 - val_accuracy: 0.5160\n",
            "Epoch 42/200\n",
            "2657/2657 [==============================] - 13s 5ms/step - loss: 0.7186 - accuracy: 0.5188 - val_loss: 0.7289 - val_accuracy: 0.5138\n",
            "Epoch 43/200\n",
            "2657/2657 [==============================] - 12s 5ms/step - loss: 0.7517 - accuracy: 0.5192 - val_loss: 0.7317 - val_accuracy: 0.5100\n",
            "Epoch 44/200\n",
            "2657/2657 [==============================] - 12s 5ms/step - loss: 0.7527 - accuracy: 0.5169 - val_loss: 0.7190 - val_accuracy: 0.5150\n",
            "Epoch 45/200\n",
            "2657/2657 [==============================] - 12s 5ms/step - loss: 0.7103 - accuracy: 0.5197 - val_loss: 0.7107 - val_accuracy: 0.5164\n",
            "Epoch 46/200\n",
            "2657/2657 [==============================] - 12s 5ms/step - loss: 0.7074 - accuracy: 0.5203 - val_loss: 0.7082 - val_accuracy: 0.5197\n",
            "Epoch 47/200\n",
            "2657/2657 [==============================] - 12s 5ms/step - loss: 0.7058 - accuracy: 0.5215 - val_loss: 0.7091 - val_accuracy: 0.5194\n",
            "Epoch 48/200\n",
            "2657/2657 [==============================] - 12s 5ms/step - loss: 0.7073 - accuracy: 0.5228 - val_loss: 0.7095 - val_accuracy: 0.5182\n",
            "Epoch 49/200\n",
            "2657/2657 [==============================] - 12s 5ms/step - loss: 0.7052 - accuracy: 0.5225 - val_loss: 0.7057 - val_accuracy: 0.5166\n",
            "Epoch 50/200\n",
            "2657/2657 [==============================] - 12s 5ms/step - loss: 0.7028 - accuracy: 0.5258 - val_loss: 0.7052 - val_accuracy: 0.5147\n",
            "Epoch 51/200\n",
            "2657/2657 [==============================] - 12s 5ms/step - loss: 0.7016 - accuracy: 0.5265 - val_loss: 0.7035 - val_accuracy: 0.5195\n",
            "Epoch 52/200\n",
            "2657/2657 [==============================] - 12s 5ms/step - loss: 0.7012 - accuracy: 0.5264 - val_loss: 0.7073 - val_accuracy: 0.5192\n",
            "Epoch 53/200\n",
            "2657/2657 [==============================] - 13s 5ms/step - loss: 0.7009 - accuracy: 0.5283 - val_loss: 0.7049 - val_accuracy: 0.5187\n",
            "Epoch 54/200\n",
            "2657/2657 [==============================] - 13s 5ms/step - loss: 0.7000 - accuracy: 0.5283 - val_loss: 0.7050 - val_accuracy: 0.5180\n",
            "Epoch 55/200\n",
            "2657/2657 [==============================] - 12s 5ms/step - loss: 0.6993 - accuracy: 0.5316 - val_loss: 0.7050 - val_accuracy: 0.5153\n",
            "Epoch 56/200\n",
            "2657/2657 [==============================] - 12s 5ms/step - loss: 0.6988 - accuracy: 0.5302 - val_loss: 0.7057 - val_accuracy: 0.5202\n",
            "Epoch 57/200\n",
            "2657/2657 [==============================] - 14s 5ms/step - loss: 0.6978 - accuracy: 0.5338 - val_loss: 0.7047 - val_accuracy: 0.5124\n",
            "Epoch 58/200\n",
            "2657/2657 [==============================] - 12s 5ms/step - loss: 0.7007 - accuracy: 0.5320 - val_loss: 0.7044 - val_accuracy: 0.5186\n",
            "Epoch 59/200\n",
            "2657/2657 [==============================] - 12s 5ms/step - loss: 0.6972 - accuracy: 0.5364 - val_loss: 0.7046 - val_accuracy: 0.5173\n",
            "Epoch 60/200\n",
            "2657/2657 [==============================] - 13s 5ms/step - loss: 0.6968 - accuracy: 0.5370 - val_loss: 0.7044 - val_accuracy: 0.5178\n",
            "Epoch 61/200\n",
            "2565/2657 [===========================>..] - ETA: 0s - loss: 0.6974 - accuracy: 0.5376"
          ]
        }
      ],
      "source": [
        "model = ClassificationModel().assemble_model()\n",
        "\n",
        "checkpoint_path = \"./models/pT_class_output_model_cp.ckpt\"\n",
        "\n",
        "# Create a callback that saves the model's weights \n",
        "# currently, model weights are saved for each training\n",
        "# to do - update for early stopping\n",
        "# cp_callback = ModelCheckpoint(filepath=checkpoint_path,\n",
        "#                               save_weights_only=True,\n",
        "#                               verbose=1,\n",
        "#                               save_best_only = True)\n",
        "\n",
        "es = EarlyStopping(monitor = \"val_loss\", patience = 10, mode = \"max\")\n",
        "csv_logger = CSVLogger('log.csv', append=True, separator=';')\n",
        "batch_size = 64\n",
        "epochs = 200\n",
        "\n",
        "optim= tf.keras.optimizers.Adam(lr = 0.01, decay = 1-5)\n",
        "\n",
        "model.compile(loss = tf.keras.losses.BinaryCrossentropy(),\n",
        "              optimizer = optim,\n",
        "              metrics = [\"accuracy\"])\n",
        "history = model.fit(\n",
        "          x = (X_train, Y_loc_train),\n",
        "          y = pT_train,\n",
        "          batch_size=batch_size,\n",
        "          epochs=epochs,\n",
        "          verbose=True,\n",
        "          validation_data = [(X_test, Y_loc_test), pT_test],\n",
        "          callbacks=[csv_logger],\n",
        "          )"
      ],
      "id": "9059e312"
    },
    {
      "cell_type": "code",
      "source": [
        "plt.figure(figsize = (5,4), dpi = 80)\n",
        "plt.plot(history.history[\"loss\"], color = \"red\")\n",
        "plt.plot(history.history[\"val_loss\"], color = \"black\")\n",
        "plt.legend([\"training\", \"validation\"])\n",
        "plt.minorticks_on()\n",
        "plt.grid(which='major', linestyle='-', linewidth='0.25', alpha=0.5,color='black')\n",
        "plt.grid(which='minor', linestyle=':', linewidth='0.25', alpha=0.5,color='black')\n",
        "plt.show()"
      ],
      "metadata": {
        "id": "RA9ubQ52JZqs"
      },
      "id": "RA9ubQ52JZqs",
      "execution_count": null,
      "outputs": []
    },
    {
      "cell_type": "code",
      "source": [
        "import sklearn\n",
        "predictions = model.predict([X_test,Y_loc_test], batch_size=batch_size, callbacks=[CustomCallback()])\n",
        "y_preds = predictions.argmax(axis=1)\n",
        "\n",
        "from sklearn.metrics import accuracy_score\n",
        "print(accuracy_score(pT_test,y_preds))"
      ],
      "metadata": {
        "id": "0UC7ZeQSJ1di"
      },
      "id": "0UC7ZeQSJ1di",
      "execution_count": null,
      "outputs": []
    },
    {
      "cell_type": "code",
      "execution_count": null,
      "metadata": {
        "id": "PDmFltOvH4cc",
        "colab": {
          "base_uri": "https://localhost:8080/",
          "height": 372
        },
        "outputId": "ddebe738-da39-4d78-e5b4-68fbcee50681"
      },
      "outputs": [
        {
          "output_type": "stream",
          "name": "stdout",
          "text": [
            "Start predicting; got log keys: []\n",
            "Stop predicting; got log keys: []\n"
          ]
        },
        {
          "output_type": "display_data",
          "data": {
            "text/plain": [
              "<Figure size 432x288 with 2 Axes>"
            ],
            "image/png": "[encoded data removed]"
          },
          "metadata": {
            "needs_background": "light"
          }
        }
      ],
      "source": [
        "from sklearn.metrics import confusion_matrix\n",
        "import seaborn as sns\n",
        "\n",
        "predictions = model.predict([X_test,Y_loc_test], batch_size=batch_size, callbacks=[CustomCallback()])\n",
        "y_preds = predictions.argmax(axis=1)\n",
        "cf_matrix = confusion_matrix(pT_test, y_preds)\n",
        "\n",
        "ax = sns.heatmap(cf_matrix, annot=True, cmap='Blues')\n",
        "\n",
        "ax.set_title('Confusion Matrix with labels\\n\\n');\n",
        "ax.set_xlabel('\\nPredicted Values')\n",
        "ax.set_ylabel('Actual Values ');\n",
        "\n",
        "## Ticket labels - List must be in alphabetical order\n",
        "ax.xaxis.set_ticklabels(['0','1'])\n",
        "ax.yaxis.set_ticklabels(['0','1'])\n",
        "\n",
        "## Display the visualization of the Confusion Matrix.\n",
        "plt.show()"
      ],
      "id": "PDmFltOvH4cc"
    },
    {
      "cell_type": "code",
      "execution_count": null,
      "metadata": {
        "id": "L5touCrBIGKB"
      },
      "outputs": [],
      "source": [
        "# def saving_model(model,\n",
        "#                  filepath:str ='',\n",
        "#                  model_filename:str ='model'):\n",
        "#     \"\"\"\n",
        "#     Helper function to save the trained pruned models in the following format:\n",
        "#         Config -> JSON file format\n",
        "#         Weights -> H5PY file format\n",
        "#     :param model: Keras Model object\n",
        "#     :param filepath: path to store the file in the directory\n",
        "#     :param model_filename: name for the model\n",
        "#     :return: None\n",
        "#     \"\"\" \n",
        "#     # serialize model to JSON\n",
        "#     model_json = model.to_json()\n",
        "#     with open(filepath + \"/\" + model_filename + \".json\", \"w\") as json_file:\n",
        "#         json_file.write(model_json)\n",
        "#     # serialize weights to HDF5\n",
        "#     model.save_weights(filepath + \"/\" + model_filename + \"_weights.h5\")\n",
        "#     print(\"Saved model to disk\")"
      ],
      "id": "L5touCrBIGKB"
    },
    {
      "cell_type": "code",
      "execution_count": null,
      "metadata": {
        "id": "nPGLG0JQQssz"
      },
      "outputs": [],
      "source": [
        "# saving_model(model, filepath = sys.path[-1] + \"/\" + \"models\", model_filename = \"reg_model_pT\")"
      ],
      "id": "nPGLG0JQQssz"
    }
  ],
  "metadata": {
    "accelerator": "GPU",
    "colab": {
      "collapsed_sections": [],
      "machine_shape": "hm",
      "name": "Classification Model- pT",
      "provenance": []
    },
    "kernelspec": {
      "display_name": "Python 3 (ipykernel)",
      "language": "python",
      "name": "python3"
    },
    "language_info": {
      "codemirror_mode": {
        "name": "ipython",
        "version": 3
      },
      "file_extension": ".py",
      "mimetype": "text/x-python",
      "name": "python",
      "nbconvert_exporter": "python",
      "pygments_lexer": "ipython3",
      "version": "3.8.12"
    }
  },
  "nbformat": 4,
  "nbformat_minor": 5
}